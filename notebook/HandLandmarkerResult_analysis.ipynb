{
 "cells": [
  {
   "cell_type": "markdown",
   "metadata": {},
   "source": [
    "# Models\n",
    "https://developers.google.com/mediapipe/solutions/vision/hand_landmarker#models   \n",
    "   \n",
    "#####  HandLandmarker  \n",
    "![HandLandmarker](https://developers.google.com/static/mediapipe/images/solutions/hand-landmarks.png)"
   ]
  },
  {
   "cell_type": "code",
   "execution_count": null,
   "metadata": {},
   "outputs": [],
   "source": []
  }
 ],
 "metadata": {
  "kernelspec": {
   "display_name": "mediapipe",
   "language": "python",
   "name": "python3"
  },
  "language_info": {
   "name": "python",
   "version": "3.11.5"
  }
 },
 "nbformat": 4,
 "nbformat_minor": 2
}
