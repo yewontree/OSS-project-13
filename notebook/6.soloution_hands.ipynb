{
 "cells": [
  {
   "cell_type": "markdown",
   "metadata": {},
   "source": [
    "# mediapipe/docs/solutions/hand.md 분석\n",
    "출처 : [mediapipi/doc/solutions/hands.md](https://github.com/google/mediapipe/blob/master/docs/solutions/hands.md#python-solution-api)"
   ]
  },
  {
   "cell_type": "code",
   "execution_count": 1,
   "metadata": {},
   "outputs": [],
   "source": [
    "import inspect\n",
    "from typing import TypeVar\n",
    "\n",
    "\n",
    "# https://stackoverflow.com/questions/13520421/recursive-dotdict\n",
    "class attrdict(dict):\n",
    "    \"\"\"\n",
    "    a dictionary that supports dot operation\n",
    "    as well as dictionary access operation\n",
    "    usage: d = attrdict() or d = attrdict({'val1':'first'})\n",
    "    set attributes: d.val2 = 'second' or d['val2'] = 'second'\n",
    "    get attributes: d.val2 or d['val2']\n",
    "    \"\"\"\n",
    "\n",
    "    __getattr__ = dict.__getitem__\n",
    "    __setattr__ = dict.__setitem__\n",
    "    __delattr__ = dict.__delitem__\n",
    "\n",
    "\n",
    "def attr(obj) -> tuple[attrdict, attrdict, attrdict, attrdict]:\n",
    "    \"\"\"Tool for python object inspection. Python object has its namespace and attribute.\n",
    "    Python's built-in function 'dir' is useful, but inconvenient for object namespace analysis.\n",
    "    So, this function renovates python's built-in functions like dir, var, ...\n",
    "\n",
    "    Returns:\n",
    "        tuple: (obj's state_types, obj's callable_signatures, state_values, and bounded callables)\n",
    "    \"\"\"\n",
    "    all_attr = {}\n",
    "    for attribute in dir(obj):\n",
    "        if not attribute.startswith(\"_\"):\n",
    "            try:\n",
    "                all_attr[attribute] = getattr(obj, attribute)\n",
    "            except AttributeError:\n",
    "                continue\n",
    "\n",
    "    methods = dict([(k, v) for k, v in all_attr.items() if callable(v)])\n",
    "\n",
    "    signatures = {}\n",
    "    for k, v in all_attr.items():\n",
    "        if callable(v):\n",
    "            try:\n",
    "                signatures[k] = inspect.signature(v)  # may occur ValueError\n",
    "            except ValueError:\n",
    "                signatures[k] = \"No signature available for built-in method\"\n",
    "\n",
    "    state_keys = sorted(list(set(all_attr.keys()) - set(methods.keys())))\n",
    "    state_types = dict([(k, type(getattr(obj, k))) for k in state_keys])\n",
    "    state_values = dict([(k, getattr(obj, k)) for k in state_keys])\n",
    "\n",
    "    return attrdict(state_types), attrdict(signatures), attrdict(state_values), attrdict(methods)"
   ]
  },
  {
   "cell_type": "code",
   "execution_count": 2,
   "metadata": {},
   "outputs": [],
   "source": [
    "import cv2\n",
    "import mediapipe as mp\n",
    "mp_drawing = mp.solutions.drawing_utils\n",
    "mp_drawing_styles = mp.solutions.drawing_styles\n",
    "mp_hands = mp.solutions.hands"
   ]
  },
  {
   "cell_type": "code",
   "execution_count": 3,
   "metadata": {},
   "outputs": [],
   "source": [
    "# For static images:\n",
    "IMAGE_FILES = []\n",
    "with mp_hands.Hands(\n",
    "    static_image_mode=True,\n",
    "    max_num_hands=2,\n",
    "    min_detection_confidence=0.5,\n",
    ") as hands:\n",
    "    for idx, file in enumerate(IMAGE_FILES):\n",
    "        # Read an image, flip it around y-axis for correct handedness output (see above).\n",
    "        image = cv2.flip(cv2.imread(file), 1)\n",
    "        # Convert the BGR image to RGB before processing.\n",
    "        results = hands.process(cv2.cvtColor(image, cv2.COLOR_BGR2RGB))\n",
    "\n",
    "        # Print handedness and draw hand landmarks on the image.\n",
    "        print(\"Handedness:\", results.multi_handedness)\n",
    "        if not results.multi_hand_landmarks:\n",
    "            continue\n",
    "        image_height, image_width, _ = image.shape\n",
    "        annotated_image = image.copy()\n",
    "        for hand_landmarks in results.multi_hand_landmarks:\n",
    "            print(\"hand_landmarks:\", hand_landmarks)\n",
    "            print(\n",
    "                f\"Index finger tip coordinates: (\",\n",
    "                f\"{hand_landmarks.landmark[mp_hands.HandLandmark.INDEX_FINGER_TIP].x * image_width}, \"\n",
    "                f\"{hand_landmarks.landmark[mp_hands.HandLandmark.INDEX_FINGER_TIP].y * image_height})\",\n",
    "            )\n",
    "            mp_drawing.draw_landmarks(\n",
    "                annotated_image,\n",
    "                hand_landmarks,\n",
    "                mp_hands.HAND_CONNECTIONS,\n",
    "                mp_drawing_styles.get_default_hand_landmarks_style(),\n",
    "                mp_drawing_styles.get_default_hand_connections_style(),\n",
    "            )\n",
    "        cv2.imwrite(\"../images/annotated_image\" + str(idx) + \".png\", cv2.flip(annotated_image, 1))\n",
    "        # Draw hand world landmarks.\n",
    "        if not results.multi_hand_world_landmarks:\n",
    "            continue\n",
    "        for hand_world_landmarks in results.multi_hand_world_landmarks:\n",
    "            mp_drawing.plot_landmarks(hand_world_landmarks, mp_hands.HAND_CONNECTIONS, azimuth=5)"
   ]
  },
  {
   "cell_type": "code",
   "execution_count": 4,
   "metadata": {},
   "outputs": [],
   "source": [
    "# For webcam input:\n",
    "cap = cv2.VideoCapture(0)\n",
    "with mp_hands.Hands(\n",
    "    model_complexity=0,\n",
    "    min_detection_confidence=0.5,\n",
    "    min_tracking_confidence=0.5,\n",
    ") as hands:\n",
    "    while cap.isOpened():\n",
    "        success, image = cap.read()\n",
    "        if not success:\n",
    "            print(\"Ignoring empty camera frame.\")\n",
    "            # If loading a video, use 'break' instead of 'continue'.\n",
    "            continue\n",
    "\n",
    "        # To improve performance, optionally mark the image as not writeable to\n",
    "        # pass by reference.\n",
    "        image.flags.writeable = False\n",
    "        image = cv2.cvtColor(image, cv2.COLOR_BGR2RGB)\n",
    "        results = hands.process(image)\n",
    "\n",
    "        # Draw the hand annotations on the image.\n",
    "        image.flags.writeable = True\n",
    "        image = cv2.cvtColor(image, cv2.COLOR_RGB2BGR)\n",
    "        if results.multi_hand_landmarks:\n",
    "            for hand_landmarks in results.multi_hand_landmarks: # 최대 2 개\n",
    "                mp_drawing.draw_landmarks(\n",
    "                    image,\n",
    "                    hand_landmarks,\n",
    "                    mp_hands.HAND_CONNECTIONS,\n",
    "                    mp_drawing_styles.get_default_hand_landmarks_style(),\n",
    "                    mp_drawing_styles.get_default_hand_connections_style(),\n",
    "                )\n",
    "        # Flip the image horizontally for a selfie-view display.\n",
    "        cv2.imshow(\"MediaPipe Hands\", cv2.flip(image, 1))\n",
    "        if cv2.waitKey(5) & 0xFF == ord('q'):\n",
    "            break\n",
    "cap.release()\n",
    "cv2.destroyAllWindows()"
   ]
  },
  {
   "cell_type": "code",
   "execution_count": 5,
   "metadata": {},
   "outputs": [
    {
     "data": {
      "text/plain": [
       "{'multi_hand_landmarks': NoneType,\n",
       " 'multi_hand_world_landmarks': NoneType,\n",
       " 'multi_handedness': NoneType}"
      ]
     },
     "execution_count": 5,
     "metadata": {},
     "output_type": "execute_result"
    }
   ],
   "source": [
    "ns_results = attr(results)\n",
    "\n",
    "# results attributes type\n",
    "ns_results[0]"
   ]
  },
  {
   "cell_type": "code",
   "execution_count": 6,
   "metadata": {},
   "outputs": [
    {
     "data": {
      "text/plain": [
       "{'count': <Signature (self, value, /)>,\n",
       " 'index': <Signature (self, value, start=0, stop=9223372036854775807, /)>}"
      ]
     },
     "execution_count": 6,
     "metadata": {},
     "output_type": "execute_result"
    }
   ],
   "source": [
    "# results member function\n",
    "ns_results[1]"
   ]
  },
  {
   "cell_type": "code",
   "execution_count": 7,
   "metadata": {},
   "outputs": [
    {
     "name": "stdout",
     "output_type": "stream",
     "text": [
      "\u001b[1;31mSignature:\u001b[0m \u001b[0mresults\u001b[0m\u001b[1;33m.\u001b[0m\u001b[0mcount\u001b[0m\u001b[1;33m(\u001b[0m\u001b[0mself\u001b[0m\u001b[1;33m,\u001b[0m \u001b[0mvalue\u001b[0m\u001b[1;33m,\u001b[0m \u001b[1;33m/\u001b[0m\u001b[1;33m)\u001b[0m\u001b[1;33m\u001b[0m\u001b[1;33m\u001b[0m\u001b[0m\n",
      "\u001b[1;31mDocstring:\u001b[0m Return number of occurrences of value.\n",
      "\u001b[1;31mType:\u001b[0m      method_descriptor"
     ]
    }
   ],
   "source": [
    "results.count?"
   ]
  },
  {
   "cell_type": "code",
   "execution_count": 8,
   "metadata": {},
   "outputs": [
    {
     "name": "stdout",
     "output_type": "stream",
     "text": [
      "\u001b[1;31mSignature:\u001b[0m \u001b[0mresults\u001b[0m\u001b[1;33m.\u001b[0m\u001b[0mindex\u001b[0m\u001b[1;33m(\u001b[0m\u001b[0mself\u001b[0m\u001b[1;33m,\u001b[0m \u001b[0mvalue\u001b[0m\u001b[1;33m,\u001b[0m \u001b[0mstart\u001b[0m\u001b[1;33m=\u001b[0m\u001b[1;36m0\u001b[0m\u001b[1;33m,\u001b[0m \u001b[0mstop\u001b[0m\u001b[1;33m=\u001b[0m\u001b[1;36m9223372036854775807\u001b[0m\u001b[1;33m,\u001b[0m \u001b[1;33m/\u001b[0m\u001b[1;33m)\u001b[0m\u001b[1;33m\u001b[0m\u001b[1;33m\u001b[0m\u001b[0m\n",
      "\u001b[1;31mDocstring:\u001b[0m\n",
      "Return first index of value.\n",
      "\n",
      "Raises ValueError if the value is not present.\n",
      "\u001b[1;31mType:\u001b[0m      method_descriptor"
     ]
    }
   ],
   "source": [
    "results.index?"
   ]
  },
  {
   "cell_type": "code",
   "execution_count": 9,
   "metadata": {},
   "outputs": [
    {
     "ename": "TypeError",
     "evalue": "object of type 'NoneType' has no len()",
     "output_type": "error",
     "traceback": [
      "\u001b[1;31m---------------------------------------------------------------------------\u001b[0m",
      "\u001b[1;31mTypeError\u001b[0m                                 Traceback (most recent call last)",
      "\u001b[1;32mc:\\Users\\kclee\\OneDrive\\Develope\\2023-2\\finger_detection\\notebook\\6.soloution_hands.ipynb Cell 10\u001b[0m line \u001b[0;36m1\n\u001b[1;32m----> <a href='vscode-notebook-cell:/c%3A/Users/kclee/OneDrive/Develope/2023-2/finger_detection/notebook/6.soloution_hands.ipynb#X12sZmlsZQ%3D%3D?line=0'>1</a>\u001b[0m \u001b[39mlen\u001b[39;49m(results\u001b[39m.\u001b[39;49mmulti_hand_landmarks)\n",
      "\u001b[1;31mTypeError\u001b[0m: object of type 'NoneType' has no len()"
     ]
    }
   ],
   "source": [
    "len(results.multi_hand_landmarks)"
   ]
  },
  {
   "cell_type": "markdown",
   "metadata": {},
   "source": [
    "![hand landmarks](https://camo.githubusercontent.com/b0f077393b25552492ef5dd7cd9fd13f386e8bb480fa4ed94ce42ede812066a1/68747470733a2f2f6d65646961706970652e6465762f696d616765732f6d6f62696c652f68616e645f6c616e646d61726b732e706e67)"
   ]
  },
  {
   "cell_type": "code",
   "execution_count": null,
   "metadata": {},
   "outputs": [
    {
     "name": "stdout",
     "output_type": "stream",
     "text": [
      "Hand 1\n",
      "  Hand 1. 0: 0.8597419261932373, 0.7375145554542542, -8.554186692322219e-09\n",
      "  Hand 1. 1: 0.7651691436767578, 0.7170498371124268, -0.049574997276067734\n",
      "  Hand 1. 2: 0.704384446144104, 0.6542525887489319, -0.09301326423883438\n",
      "  Hand 1. 3: 0.6666319370269775, 0.5965675115585327, -0.13881364464759827\n",
      "  Hand 1. 4: 0.6182904243469238, 0.5409877300262451, -0.18813316524028778\n",
      "  Hand 1. 5: 0.7342226505279541, 0.5022770762443542, -0.061190810054540634\n",
      "  Hand 1. 6: 0.6971369981765747, 0.4339510202407837, -0.12984658777713776\n",
      "  Hand 1. 7: 0.6679109334945679, 0.4176744818687439, -0.1845065802335739\n",
      "  Hand 1. 8: 0.6386588215827942, 0.4217081665992737, -0.2221987247467041\n",
      "  Hand 1. 9: 0.7880780100822449, 0.4853808879852295, -0.07982461154460907\n",
      "  Hand 1.10: 0.762995719909668, 0.3923148512840271, -0.163365438580513\n",
      "  Hand 1.11: 0.7334391474723816, 0.358612596988678, -0.2391130030155182\n",
      "  Hand 1.12: 0.7010366320610046, 0.34276285767555237, -0.2900940775871277\n",
      "  Hand 1.13: 0.8458290696144104, 0.49335312843322754, -0.10602886229753494\n",
      "  Hand 1.14: 0.8326247334480286, 0.40218693017959595, -0.18762999773025513\n",
      "  Hand 1.15: 0.8050824403762817, 0.3664954602718353, -0.26051777601242065\n",
      "  Hand 1.16: 0.7706143856048584, 0.35242539644241333, -0.30564481019973755\n",
      "  Hand 1.17: 0.9047187566757202, 0.5204614400863647, -0.13517846167087555\n",
      "  Hand 1.18: 0.9118897914886475, 0.4512118101119995, -0.20224982500076294\n",
      "  Hand 1.19: 0.9014742970466614, 0.40527451038360596, -0.25514376163482666\n",
      "  Hand 1.20: 0.8836654424667358, 0.3696402311325073, -0.2932513952255249\n"
     ]
    }
   ],
   "source": [
    "for hand_landmarks in results.multi_hand_landmarks:\n",
    "    print(f\"Hand {hand_landmarks.LANDMARK_FIELD_NUMBER}\")\n",
    "    for i, mark in enumerate(hand_landmarks.landmark):\n",
    "        print(f\"  Hand {hand_landmarks.LANDMARK_FIELD_NUMBER}.{i:>2}: {mark.x}, {mark.y}, {mark.z}\")"
   ]
  },
  {
   "cell_type": "markdown",
   "metadata": {},
   "source": [
    "# solutions = mediapipe.python.solutions API\n",
    "```python\n",
    "\"\"\"MediaPipe Solutions Python API.\"\"\"\n",
    "\n",
    "import mediapipe.python.solutions.drawing_styles\n",
    "import mediapipe.python.solutions.drawing_utils\n",
    "import mediapipe.python.solutions.face_detection\n",
    "import mediapipe.python.solutions.face_mesh\n",
    "import mediapipe.python.solutions.face_mesh_connections\n",
    "import mediapipe.python.solutions.hands\n",
    "import mediapipe.python.solutions.hands_connections\n",
    "import mediapipe.python.solutions.holistic\n",
    "import mediapipe.python.solutions.objectron\n",
    "import mediapipe.python.solutions.pose\n",
    "import mediapipe.python.solutions.selfie_segmentation\n",
    "```"
   ]
  },
  {
   "cell_type": "code",
   "execution_count": 10,
   "metadata": {},
   "outputs": [],
   "source": [
    "import mediapipe.python.solutions.drawing_styles as drawing_styles\n",
    "import mediapipe.python.solutions.drawing_utils as drawing_utils\n",
    "import mediapipe.python.solutions.face_detection as face_detection\n",
    "import mediapipe.python.solutions.face_mesh as face_mesh\n",
    "import mediapipe.python.solutions.face_mesh_connections as face_mesh_connections\n",
    "import mediapipe.python.solutions.hands as hands\n",
    "import mediapipe.python.solutions.hands_connections as hands_connections\n",
    "import mediapipe.python.solutions.holistic as holistic\n",
    "import mediapipe.python.solutions.objectron as objectron\n",
    "import mediapipe.python.solutions.pose as pos\n",
    "import mediapipe.python.solutions.selfie_segmentation as selfie_segmentation"
   ]
  },
  {
   "cell_type": "code",
   "execution_count": null,
   "metadata": {},
   "outputs": [
    {
     "data": {
      "text/plain": [
       "({'BLACK_COLOR': tuple,\n",
       "  'BLUE_COLOR': tuple,\n",
       "  'GREEN_COLOR': tuple,\n",
       "  'RED_COLOR': tuple,\n",
       "  'WHITE_COLOR': tuple,\n",
       "  'cv2': module,\n",
       "  'dataclasses': module,\n",
       "  'detection_pb2': module,\n",
       "  'landmark_pb2': module,\n",
       "  'location_data_pb2': module,\n",
       "  'math': module,\n",
       "  'np': module,\n",
       "  'plt': module},\n",
       " {'DrawingSpec': <Signature (color: Tuple[int, int, int] = (224, 224, 224), thickness: int = 2, circle_radius: int = 2) -> None>,\n",
       "  'List': <Signature (*args, **kwargs)>,\n",
       "  'Mapping': <Signature (*args, **kwargs)>,\n",
       "  'Optional': <Signature (*args, **kwds)>,\n",
       "  'Tuple': <Signature (*args, **kwargs)>,\n",
       "  'Union': <Signature (*args, **kwds)>,\n",
       "  'draw_axis': <Signature (image: numpy.ndarray, rotation: numpy.ndarray, translation: numpy.ndarray, focal_length: Tuple[float, float] = (1.0, 1.0), principal_point: Tuple[float, float] = (0.0, 0.0), axis_length: float = 0.1, axis_drawing_spec: mediapipe.python.solutions.drawing_utils.DrawingSpec = DrawingSpec(color=(224, 224, 224), thickness=2, circle_radius=2))>,\n",
       "  'draw_detection': <Signature (image: numpy.ndarray, detection: mediapipe.framework.formats.detection_pb2.Detection, keypoint_drawing_spec: mediapipe.python.solutions.drawing_utils.DrawingSpec = DrawingSpec(color=(0, 0, 255), thickness=2, circle_radius=2), bbox_drawing_spec: mediapipe.python.solutions.drawing_utils.DrawingSpec = DrawingSpec(color=(224, 224, 224), thickness=2, circle_radius=2))>,\n",
       "  'draw_landmarks': <Signature (image: numpy.ndarray, landmark_list: mediapipe.framework.formats.landmark_pb2.NormalizedLandmarkList, connections: Optional[List[Tuple[int, int]]] = None, landmark_drawing_spec: Union[mediapipe.python.solutions.drawing_utils.DrawingSpec, Mapping[int, mediapipe.python.solutions.drawing_utils.DrawingSpec]] = DrawingSpec(color=(0, 0, 255), thickness=2, circle_radius=2), connection_drawing_spec: Union[mediapipe.python.solutions.drawing_utils.DrawingSpec, Mapping[Tuple[int, int], mediapipe.python.solutions.drawing_utils.DrawingSpec]] = DrawingSpec(color=(224, 224, 224), thickness=2, circle_radius=2))>,\n",
       "  'plot_landmarks': <Signature (landmark_list: mediapipe.framework.formats.landmark_pb2.NormalizedLandmarkList, connections: Optional[List[Tuple[int, int]]] = None, landmark_drawing_spec: mediapipe.python.solutions.drawing_utils.DrawingSpec = DrawingSpec(color=(0, 0, 255), thickness=5, circle_radius=2), connection_drawing_spec: mediapipe.python.solutions.drawing_utils.DrawingSpec = DrawingSpec(color=(0, 0, 0), thickness=5, circle_radius=2), elevation: int = 10, azimuth: int = 10)>},\n",
       " {'BLACK_COLOR': (0, 0, 0),\n",
       "  'BLUE_COLOR': (255, 0, 0),\n",
       "  'GREEN_COLOR': (0, 128, 0),\n",
       "  'RED_COLOR': (0, 0, 255),\n",
       "  'WHITE_COLOR': (224, 224, 224),\n",
       "  'cv2': <module 'cv2' from 'd:\\\\anaconda3\\\\envs\\\\mediapipe\\\\Lib\\\\site-packages\\\\cv2\\\\__init__.py'>,\n",
       "  'dataclasses': <module 'dataclasses' from 'd:\\\\anaconda3\\\\envs\\\\mediapipe\\\\Lib\\\\dataclasses.py'>,\n",
       "  'detection_pb2': <module 'mediapipe.framework.formats.detection_pb2' from 'd:\\\\anaconda3\\\\envs\\\\mediapipe\\\\Lib\\\\site-packages\\\\mediapipe\\\\framework\\\\formats\\\\detection_pb2.py'>,\n",
       "  'landmark_pb2': <module 'mediapipe.framework.formats.landmark_pb2' from 'd:\\\\anaconda3\\\\envs\\\\mediapipe\\\\Lib\\\\site-packages\\\\mediapipe\\\\framework\\\\formats\\\\landmark_pb2.py'>,\n",
       "  'location_data_pb2': <module 'mediapipe.framework.formats.location_data_pb2' from 'd:\\\\anaconda3\\\\envs\\\\mediapipe\\\\Lib\\\\site-packages\\\\mediapipe\\\\framework\\\\formats\\\\location_data_pb2.py'>,\n",
       "  'math': <module 'math' (built-in)>,\n",
       "  'np': <module 'numpy' from 'd:\\\\anaconda3\\\\envs\\\\mediapipe\\\\Lib\\\\site-packages\\\\numpy\\\\__init__.py'>,\n",
       "  'plt': <module 'matplotlib.pyplot' from 'd:\\\\anaconda3\\\\envs\\\\mediapipe\\\\Lib\\\\site-packages\\\\matplotlib\\\\pyplot.py'>})"
      ]
     },
     "execution_count": 12,
     "metadata": {},
     "output_type": "execute_result"
    }
   ],
   "source": [
    "attr(drawing_utils)[:3]"
   ]
  },
  {
   "cell_type": "markdown",
   "metadata": {},
   "source": [
    "```python\n",
    "mp_drawing.draw_landmarks(\n",
    "    image,\n",
    "    hand_landmarks,\n",
    "    mp_hands.HAND_CONNECTIONS,\n",
    "    mp_drawing_styles.get_default_hand_landmarks_style(),\n",
    "    mp_drawing_styles.get_default_hand_connections_style(),\n",
    ")\n",
    "```"
   ]
  },
  {
   "cell_type": "code",
   "execution_count": 11,
   "metadata": {},
   "outputs": [
    {
     "name": "stdout",
     "output_type": "stream",
     "text": [
      "\u001b[1;31mSignature:\u001b[0m\n",
      "\u001b[0mdrawing_utils\u001b[0m\u001b[1;33m.\u001b[0m\u001b[0mdraw_landmarks\u001b[0m\u001b[1;33m(\u001b[0m\u001b[1;33m\n",
      "\u001b[0m    \u001b[0mimage\u001b[0m\u001b[1;33m:\u001b[0m \u001b[0mnumpy\u001b[0m\u001b[1;33m.\u001b[0m\u001b[0mndarray\u001b[0m\u001b[1;33m,\u001b[0m\u001b[1;33m\n",
      "\u001b[0m    \u001b[0mlandmark_list\u001b[0m\u001b[1;33m:\u001b[0m \u001b[0mmediapipe\u001b[0m\u001b[1;33m.\u001b[0m\u001b[0mframework\u001b[0m\u001b[1;33m.\u001b[0m\u001b[0mformats\u001b[0m\u001b[1;33m.\u001b[0m\u001b[0mlandmark_pb2\u001b[0m\u001b[1;33m.\u001b[0m\u001b[0mNormalizedLandmarkList\u001b[0m\u001b[1;33m,\u001b[0m\u001b[1;33m\n",
      "\u001b[0m    \u001b[0mconnections\u001b[0m\u001b[1;33m:\u001b[0m \u001b[0mOptional\u001b[0m\u001b[1;33m[\u001b[0m\u001b[0mList\u001b[0m\u001b[1;33m[\u001b[0m\u001b[0mTuple\u001b[0m\u001b[1;33m[\u001b[0m\u001b[0mint\u001b[0m\u001b[1;33m,\u001b[0m \u001b[0mint\u001b[0m\u001b[1;33m]\u001b[0m\u001b[1;33m]\u001b[0m\u001b[1;33m]\u001b[0m \u001b[1;33m=\u001b[0m \u001b[1;32mNone\u001b[0m\u001b[1;33m,\u001b[0m\u001b[1;33m\n",
      "\u001b[0m    \u001b[0mlandmark_drawing_spec\u001b[0m\u001b[1;33m:\u001b[0m \u001b[0mUnion\u001b[0m\u001b[1;33m[\u001b[0m\u001b[0mmediapipe\u001b[0m\u001b[1;33m.\u001b[0m\u001b[0mpython\u001b[0m\u001b[1;33m.\u001b[0m\u001b[0msolutions\u001b[0m\u001b[1;33m.\u001b[0m\u001b[0mdrawing_utils\u001b[0m\u001b[1;33m.\u001b[0m\u001b[0mDrawingSpec\u001b[0m\u001b[1;33m,\u001b[0m \u001b[0mMapping\u001b[0m\u001b[1;33m[\u001b[0m\u001b[0mint\u001b[0m\u001b[1;33m,\u001b[0m \u001b[0mmediapipe\u001b[0m\u001b[1;33m.\u001b[0m\u001b[0mpython\u001b[0m\u001b[1;33m.\u001b[0m\u001b[0msolutions\u001b[0m\u001b[1;33m.\u001b[0m\u001b[0mdrawing_utils\u001b[0m\u001b[1;33m.\u001b[0m\u001b[0mDrawingSpec\u001b[0m\u001b[1;33m]\u001b[0m\u001b[1;33m]\u001b[0m \u001b[1;33m=\u001b[0m \u001b[0mDrawingSpec\u001b[0m\u001b[1;33m(\u001b[0m\u001b[0mcolor\u001b[0m\u001b[1;33m=\u001b[0m\u001b[1;33m(\u001b[0m\u001b[1;36m0\u001b[0m\u001b[1;33m,\u001b[0m \u001b[1;36m0\u001b[0m\u001b[1;33m,\u001b[0m \u001b[1;36m255\u001b[0m\u001b[1;33m)\u001b[0m\u001b[1;33m,\u001b[0m \u001b[0mthickness\u001b[0m\u001b[1;33m=\u001b[0m\u001b[1;36m2\u001b[0m\u001b[1;33m,\u001b[0m \u001b[0mcircle_radius\u001b[0m\u001b[1;33m=\u001b[0m\u001b[1;36m2\u001b[0m\u001b[1;33m)\u001b[0m\u001b[1;33m,\u001b[0m\u001b[1;33m\n",
      "\u001b[0m    \u001b[0mconnection_drawing_spec\u001b[0m\u001b[1;33m:\u001b[0m \u001b[0mUnion\u001b[0m\u001b[1;33m[\u001b[0m\u001b[0mmediapipe\u001b[0m\u001b[1;33m.\u001b[0m\u001b[0mpython\u001b[0m\u001b[1;33m.\u001b[0m\u001b[0msolutions\u001b[0m\u001b[1;33m.\u001b[0m\u001b[0mdrawing_utils\u001b[0m\u001b[1;33m.\u001b[0m\u001b[0mDrawingSpec\u001b[0m\u001b[1;33m,\u001b[0m \u001b[0mMapping\u001b[0m\u001b[1;33m[\u001b[0m\u001b[0mTuple\u001b[0m\u001b[1;33m[\u001b[0m\u001b[0mint\u001b[0m\u001b[1;33m,\u001b[0m \u001b[0mint\u001b[0m\u001b[1;33m]\u001b[0m\u001b[1;33m,\u001b[0m \u001b[0mmediapipe\u001b[0m\u001b[1;33m.\u001b[0m\u001b[0mpython\u001b[0m\u001b[1;33m.\u001b[0m\u001b[0msolutions\u001b[0m\u001b[1;33m.\u001b[0m\u001b[0mdrawing_utils\u001b[0m\u001b[1;33m.\u001b[0m\u001b[0mDrawingSpec\u001b[0m\u001b[1;33m]\u001b[0m\u001b[1;33m]\u001b[0m \u001b[1;33m=\u001b[0m \u001b[0mDrawingSpec\u001b[0m\u001b[1;33m(\u001b[0m\u001b[0mcolor\u001b[0m\u001b[1;33m=\u001b[0m\u001b[1;33m(\u001b[0m\u001b[1;36m224\u001b[0m\u001b[1;33m,\u001b[0m \u001b[1;36m224\u001b[0m\u001b[1;33m,\u001b[0m \u001b[1;36m224\u001b[0m\u001b[1;33m)\u001b[0m\u001b[1;33m,\u001b[0m \u001b[0mthickness\u001b[0m\u001b[1;33m=\u001b[0m\u001b[1;36m2\u001b[0m\u001b[1;33m,\u001b[0m \u001b[0mcircle_radius\u001b[0m\u001b[1;33m=\u001b[0m\u001b[1;36m2\u001b[0m\u001b[1;33m)\u001b[0m\u001b[1;33m,\u001b[0m\u001b[1;33m\n",
      "\u001b[0m\u001b[1;33m)\u001b[0m\u001b[1;33m\u001b[0m\u001b[1;33m\u001b[0m\u001b[0m\n",
      "\u001b[1;31mDocstring:\u001b[0m\n",
      "Draws the landmarks and the connections on the image.\n",
      "\n",
      "Args:\n",
      "  image: A three channel BGR image represented as numpy ndarray.\n",
      "  landmark_list: A normalized landmark list proto message to be annotated on\n",
      "    the image.\n",
      "  connections: A list of landmark index tuples that specifies how landmarks to\n",
      "    be connected in the drawing.\n",
      "  landmark_drawing_spec: Either a DrawingSpec object or a mapping from hand\n",
      "    landmarks to the DrawingSpecs that specifies the landmarks' drawing\n",
      "    settings such as color, line thickness, and circle radius. If this\n",
      "    argument is explicitly set to None, no landmarks will be drawn.\n",
      "  connection_drawing_spec: Either a DrawingSpec object or a mapping from hand\n",
      "    connections to the DrawingSpecs that specifies the connections' drawing\n",
      "    settings such as color and line thickness. If this argument is explicitly\n",
      "    set to None, no landmark connections will be drawn.\n",
      "\n",
      "Raises:\n",
      "  ValueError: If one of the followings:\n",
      "    a) If the input image is not three channel BGR.\n",
      "    b) If any connetions contain invalid landmark index.\n",
      "\u001b[1;31mFile:\u001b[0m      d:\\anaconda3\\envs\\mediapipe\\lib\\site-packages\\mediapipe\\python\\solutions\\drawing_utils.py\n",
      "\u001b[1;31mType:\u001b[0m      function"
     ]
    }
   ],
   "source": [
    "drawing_utils.draw_landmarks?"
   ]
  },
  {
   "cell_type": "code",
   "execution_count": null,
   "metadata": {},
   "outputs": [
    {
     "data": {
      "text/plain": [
       "({'face_mesh_connections': module, 'hands_connections': module},\n",
       " {'DrawingSpec': <Signature (color: Tuple[int, int, int] = (224, 224, 224), thickness: int = 2, circle_radius: int = 2) -> None>,\n",
       "  'HandLandmark': <Signature (value, names=None, *, module=None, qualname=None, type=None, start=1, boundary=None)>,\n",
       "  'Mapping': <Signature (*args, **kwargs)>,\n",
       "  'PoseLandmark': <Signature (value, names=None, *, module=None, qualname=None, type=None, start=1, boundary=None)>,\n",
       "  'Tuple': <Signature (*args, **kwargs)>,\n",
       "  'get_default_face_mesh_contours_style': <Signature (i: int = 0) -> Mapping[Tuple[int, int], mediapipe.python.solutions.drawing_utils.DrawingSpec]>,\n",
       "  'get_default_face_mesh_iris_connections_style': <Signature () -> Mapping[Tuple[int, int], mediapipe.python.solutions.drawing_utils.DrawingSpec]>,\n",
       "  'get_default_face_mesh_tesselation_style': <Signature () -> mediapipe.python.solutions.drawing_utils.DrawingSpec>,\n",
       "  'get_default_hand_connections_style': <Signature () -> Mapping[Tuple[int, int], mediapipe.python.solutions.drawing_utils.DrawingSpec]>,\n",
       "  'get_default_hand_landmarks_style': <Signature () -> Mapping[int, mediapipe.python.solutions.drawing_utils.DrawingSpec]>,\n",
       "  'get_default_pose_landmarks_style': <Signature () -> Mapping[int, mediapipe.python.solutions.drawing_utils.DrawingSpec]>},\n",
       " {'face_mesh_connections': <module 'mediapipe.python.solutions.face_mesh_connections' from 'd:\\\\anaconda3\\\\envs\\\\mediapipe\\\\Lib\\\\site-packages\\\\mediapipe\\\\python\\\\solutions\\\\face_mesh_connections.py'>,\n",
       "  'hands_connections': <module 'mediapipe.python.solutions.hands_connections' from 'd:\\\\anaconda3\\\\envs\\\\mediapipe\\\\Lib\\\\site-packages\\\\mediapipe\\\\python\\\\solutions\\\\hands_connections.py'>})"
      ]
     },
     "execution_count": 76,
     "metadata": {},
     "output_type": "execute_result"
    }
   ],
   "source": [
    "attr(drawing_styles)[:3]"
   ]
  },
  {
   "cell_type": "code",
   "execution_count": null,
   "metadata": {},
   "outputs": [
    {
     "data": {
      "text/plain": [
       "{<HandLandmark.WRIST: 0>: DrawingSpec(color=(48, 48, 255), thickness=-1, circle_radius=5),\n",
       " <HandLandmark.THUMB_CMC: 1>: DrawingSpec(color=(48, 48, 255), thickness=-1, circle_radius=5),\n",
       " <HandLandmark.INDEX_FINGER_MCP: 5>: DrawingSpec(color=(48, 48, 255), thickness=-1, circle_radius=5),\n",
       " <HandLandmark.MIDDLE_FINGER_MCP: 9>: DrawingSpec(color=(48, 48, 255), thickness=-1, circle_radius=5),\n",
       " <HandLandmark.RING_FINGER_MCP: 13>: DrawingSpec(color=(48, 48, 255), thickness=-1, circle_radius=5),\n",
       " <HandLandmark.PINKY_MCP: 17>: DrawingSpec(color=(48, 48, 255), thickness=-1, circle_radius=5),\n",
       " <HandLandmark.THUMB_MCP: 2>: DrawingSpec(color=(180, 229, 255), thickness=-1, circle_radius=5),\n",
       " <HandLandmark.THUMB_IP: 3>: DrawingSpec(color=(180, 229, 255), thickness=-1, circle_radius=5),\n",
       " <HandLandmark.THUMB_TIP: 4>: DrawingSpec(color=(180, 229, 255), thickness=-1, circle_radius=5),\n",
       " <HandLandmark.INDEX_FINGER_PIP: 6>: DrawingSpec(color=(128, 64, 128), thickness=-1, circle_radius=5),\n",
       " <HandLandmark.INDEX_FINGER_DIP: 7>: DrawingSpec(color=(128, 64, 128), thickness=-1, circle_radius=5),\n",
       " <HandLandmark.INDEX_FINGER_TIP: 8>: DrawingSpec(color=(128, 64, 128), thickness=-1, circle_radius=5),\n",
       " <HandLandmark.MIDDLE_FINGER_PIP: 10>: DrawingSpec(color=(0, 204, 255), thickness=-1, circle_radius=5),\n",
       " <HandLandmark.MIDDLE_FINGER_DIP: 11>: DrawingSpec(color=(0, 204, 255), thickness=-1, circle_radius=5),\n",
       " <HandLandmark.MIDDLE_FINGER_TIP: 12>: DrawingSpec(color=(0, 204, 255), thickness=-1, circle_radius=5),\n",
       " <HandLandmark.RING_FINGER_PIP: 14>: DrawingSpec(color=(48, 255, 48), thickness=-1, circle_radius=5),\n",
       " <HandLandmark.RING_FINGER_DIP: 15>: DrawingSpec(color=(48, 255, 48), thickness=-1, circle_radius=5),\n",
       " <HandLandmark.RING_FINGER_TIP: 16>: DrawingSpec(color=(48, 255, 48), thickness=-1, circle_radius=5),\n",
       " <HandLandmark.PINKY_PIP: 18>: DrawingSpec(color=(192, 101, 21), thickness=-1, circle_radius=5),\n",
       " <HandLandmark.PINKY_DIP: 19>: DrawingSpec(color=(192, 101, 21), thickness=-1, circle_radius=5),\n",
       " <HandLandmark.PINKY_TIP: 20>: DrawingSpec(color=(192, 101, 21), thickness=-1, circle_radius=5)}"
      ]
     },
     "execution_count": 77,
     "metadata": {},
     "output_type": "execute_result"
    }
   ],
   "source": [
    "drawing_styles.get_default_hand_landmarks_style()"
   ]
  },
  {
   "cell_type": "markdown",
   "metadata": {},
   "source": [
    "#### site-packages\\\\mediapipe\\\\python\\\\solutions\\\\hands_connections.py\n",
    "```python\n",
    "# Copyright 2021 The MediaPipe Authors.\n",
    "#\n",
    "# Licensed under the Apache License, Version 2.0 (the \"License\");\n",
    "# you may not use this file except in compliance with the License.\n",
    "# You may obtain a copy of the License at\n",
    "#\n",
    "#      http://www.apache.org/licenses/LICENSE-2.0\n",
    "#\n",
    "# Unless required by applicable law or agreed to in writing, software\n",
    "# distributed under the License is distributed on an \"AS IS\" BASIS,\n",
    "# WITHOUT WARRANTIES OR CONDITIONS OF ANY KIND, either express or implied.\n",
    "# See the License for the specific language governing permissions and\n",
    "# limitations under the License.\n",
    "\"\"\"MediaPipe Hands connections.\"\"\"\n",
    "\n",
    "HAND_PALM_CONNECTIONS = ((0, 1), (0, 5), (9, 13), (13, 17), (5, 9), (0, 17))\n",
    "\n",
    "HAND_THUMB_CONNECTIONS = ((1, 2), (2, 3), (3, 4))\n",
    "\n",
    "HAND_INDEX_FINGER_CONNECTIONS = ((5, 6), (6, 7), (7, 8))\n",
    "\n",
    "HAND_MIDDLE_FINGER_CONNECTIONS = ((9, 10), (10, 11), (11, 12))\n",
    "\n",
    "HAND_RING_FINGER_CONNECTIONS = ((13, 14), (14, 15), (15, 16))\n",
    "\n",
    "HAND_PINKY_FINGER_CONNECTIONS = ((17, 18), (18, 19), (19, 20))\n",
    "\n",
    "HAND_CONNECTIONS = frozenset().union(*[\n",
    "    HAND_PALM_CONNECTIONS, HAND_THUMB_CONNECTIONS,\n",
    "    HAND_INDEX_FINGER_CONNECTIONS, HAND_MIDDLE_FINGER_CONNECTIONS,\n",
    "    HAND_RING_FINGER_CONNECTIONS, HAND_PINKY_FINGER_CONNECTIONS\n",
    "])\n",
    "```"
   ]
  },
  {
   "cell_type": "markdown",
   "metadata": {},
   "source": []
  }
 ],
 "metadata": {
  "kernelspec": {
   "display_name": "mediapipe",
   "language": "python",
   "name": "python3"
  },
  "language_info": {
   "codemirror_mode": {
    "name": "ipython",
    "version": 3
   },
   "file_extension": ".py",
   "mimetype": "text/x-python",
   "name": "python",
   "nbconvert_exporter": "python",
   "pygments_lexer": "ipython3",
   "version": "3.11.5"
  }
 },
 "nbformat": 4,
 "nbformat_minor": 2
}
