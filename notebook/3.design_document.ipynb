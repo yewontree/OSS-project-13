{
 "cells": [
  {
   "cell_type": "markdown",
   "metadata": {},
   "source": [
    "## 1. Basic Format"
   ]
  },
  {
   "cell_type": "markdown",
   "metadata": {},
   "source": [
    "```python\n",
    "import cv2\n",
    "\n",
    "def main():\n",
    "    cap = cv2.VideoCapture(0) # 초기화\n",
    "\n",
    "    while True: \n",
    "        success, image = cap.read() # 영상 읽기\n",
    "        if success:\n",
    "            cv2.imshow(f\"Finger Counter\", image) # 영상 표시\n",
    "            if cv2.waitKey(1) & 0xFF == ord(\"q\"): # 종료 조건\n",
    "                break\n",
    "        else:\n",
    "            print(f\"cap.read() error\")\n",
    "            break\n",
    "\n",
    "    cap.release()\n",
    "    cv2.destroyAllWindows()\n",
    "\n",
    "\n",
    "if __name__ == \"__main__\":\n",
    "    main()\n",
    "```"
   ]
  },
  {
   "cell_type": "markdown",
   "metadata": {},
   "source": [
    "## 2. Detail Design"
   ]
  },
  {
   "cell_type": "markdown",
   "metadata": {},
   "source": [
    "```python\n",
    "import cv2\n",
    "import mediapipe as mp\n",
    "from mediapipe.tasks import python\n",
    "from mediapipe.tasks.python import vision\n",
    "import logging, coloredlogs\n",
    "\n",
    "from utils import draw_fingercount_on_image\n",
    "\n",
    "logger = logging.getLogger(__name__)\n",
    "coloredlogs.install(level=\"DEBUG\", logger=logger)  # logger 설정\n",
    "\n",
    "\n",
    "def main():\n",
    "    cap = cv2.VideoCapture(0)\n",
    "    # TODO 핑거 카운터 알고리즘 설정\n",
    "    # TODO 동영상 저장 설정\n",
    "\n",
    "    # https://developers.google.com/mediapipe/solutions/vision/hand_landmarker/python#video\n",
    "    base_options = python.BaseOptions(model_asset_path=\"models/hand_landmarker.task\")\n",
    "    options = vision.HandLandmarkerOptions(base_options=base_options, num_hands=2)\n",
    "    with vision.HandLandmarker.create_from_options(options) as detector:\n",
    "        while True:\n",
    "            success, image_origin = cap.read()\n",
    "\n",
    "            if success:\n",
    "                image = cv2.cvtColor(image_origin, cv2.COLOR_BGR2RGB)\n",
    "                rgb_frame = mp.Image(image_format=mp.ImageFormat.SRGB, data=image)\n",
    "                detection_result = detector.detect(rgb_frame)  # notebook/HandLandmarkerResult.ipynb 참조\n",
    "\n",
    "                if detection_result:  # detection_result 로그데이터 생성\n",
    "                    logger.debug(f\"detection_result:\\n {detection_result}\")\n",
    "\n",
    "                annotated_image = draw_fingercount_on_image(  # 원본 카메라 영상에 detection 결과를 합성\n",
    "                    rgb_image=image_origin,\n",
    "                    detection_result=detection_result,\n",
    "                    # TODO 핑거 카운터 알고리즘 추가\n",
    "                )\n",
    "\n",
    "                cv2.imshow(f\"Finger Counter\", annotated_image)  # 동영상 재생\n",
    "                # TODO 동영상 저장 코드 추가\n",
    "\n",
    "                if cv2.waitKey(1) & 0xFF == ord(\"q\"):\n",
    "                    break\n",
    "            else:\n",
    "                logger.critical(f\"cap.read() error\")\n",
    "                break\n",
    "\n",
    "        cap.release()\n",
    "        cv2.destroyAllWindows()\n",
    "\n",
    "\n",
    "if __name__ == \"__main__\":\n",
    "    main()\n",
    "```"
   ]
  },
  {
   "cell_type": "markdown",
   "metadata": {},
   "source": [
    "## 3. Algorithm Design\n",
    " - 클래스의 상속기능을 사용하여 알고리즘 함수를 래핑(Wrapping) 한다\n",
    " - 다양한 알고리즘으로 변경 적용이 가능하도록 한다.\n",
    " - 클래스 인스턴스의 독립적 상태저장 기능을 활용하여 다양한 통계정보를 수집할 수 있다."
   ]
  },
  {
   "cell_type": "markdown",
   "metadata": {},
   "source": [
    "```python\n",
    "class Algorithm:  # algorithm class interface\n",
    "    def detect_tip_finger(self, hand_landmarks):\n",
    "        \"\"\"returns tuple(wrist_point, tip_fingers)\"\"\"\n",
    "        raise NotImplementedError\n",
    "\n",
    "    def __init__(self):\n",
    "        from utils import get_args\n",
    "        self.logger = logging.getLogger(__name__)\n",
    "        coloredlogs.install(level=get_args().log_a.upper(), logger=self.logger)\n",
    "\n",
    "    def stats(self):\n",
    "        pass\n",
    "\n",
    "\n",
    "class John(Algorithm):\n",
    "    def detect_tip_finger(self, hand_landmarks):\n",
    "        ...\n",
    "        return wrist_point, np.array(tip_fingers)\n",
    "\n",
    "\n",
    "class Jane(Algorithm):\n",
    "    def detect_tip_finger(self, hand_landmarks):\n",
    "       ...\n",
    "        return wrist_point, np.array(tip_fingers)\n",
    "\n",
    "                ⁞\n",
    "\n",
    "```"
   ]
  },
  {
   "cell_type": "markdown",
   "metadata": {},
   "source": [
    "## 4. Usage"
   ]
  },
  {
   "cell_type": "markdown",
   "metadata": {},
   "source": [
    "```bash\n",
    "❯ python main.py --help\n",
    "usage: main.py [-h] [--algo {john,jane}] [--log {debug,info,warning,error,critical}] [--log_a {debug,info,warning,error,critical}] [--save]\n",
    "\n",
    "options:   \n",
    "  -h, --help            show this help message and exit   \n",
    "  --algo {john,jane}   \n",
    "                        select finger counter algorithm   \n",
    "  --log {debug,info,warning,error,critical}   \n",
    "                        select log level   \n",
    "  --log_a {debug,info,warning,error,critical}   \n",
    "                        select algorithm log level   \n",
    "  --save                save video data as .avi file   \n",
    "\n",
    "\n",
    "❯ python main.py --algo john\n",
    "❯ python main.py --algo jane\n",
    "❯ python main.py --algo jane --log dubug\n",
    "❯ python main.py --algo jane --log dubug --save\n",
    "...\n",
    "```"
   ]
  },
  {
   "cell_type": "markdown",
   "metadata": {},
   "source": []
  }
 ],
 "metadata": {
  "language_info": {
   "name": "python"
  }
 },
 "nbformat": 4,
 "nbformat_minor": 2
}
