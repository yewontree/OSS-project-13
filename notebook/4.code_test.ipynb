{
 "cells": [
  {
   "cell_type": "markdown",
   "metadata": {},
   "source": [
    "# 사용된 주요 코드 분석 및 테스트"
   ]
  },
  {
   "cell_type": "markdown",
   "metadata": {},
   "source": [
    "### 📌 logging 모듈\n",
    "- [Logging HOWTO](https://docs.python.org/3/howto/logging.html) 참조\n",
    "- `coloredlogs` is a Python package that enhances the output of Python's logging module by adding colors to the log levels and timestamps."
   ]
  },
  {
   "cell_type": "code",
   "execution_count": 18,
   "metadata": {},
   "outputs": [
    {
     "name": "stderr",
     "output_type": "stream",
     "text": [
      "\u001b[32m2023-12-01 15:48:13\u001b[0m \u001b[35mAERO15\u001b[0m \u001b[34mmy_logger[24180]\u001b[0m \u001b[1;30mDEBUG\u001b[0m \u001b[32mThis is a debug message\u001b[0m\n",
      "\u001b[32m2023-12-01 15:48:13\u001b[0m \u001b[35mAERO15\u001b[0m \u001b[34mmy_logger[24180]\u001b[0m \u001b[1;30mINFO\u001b[0m This is an info message\n",
      "\u001b[32m2023-12-01 15:48:13\u001b[0m \u001b[35mAERO15\u001b[0m \u001b[34mmy_logger[24180]\u001b[0m \u001b[1;30mWARNING\u001b[0m \u001b[33mThis is a warning message\u001b[0m\n",
      "\u001b[32m2023-12-01 15:48:13\u001b[0m \u001b[35mAERO15\u001b[0m \u001b[34mmy_logger[24180]\u001b[0m \u001b[1;30mERROR\u001b[0m \u001b[31mThis is an error message\u001b[0m\n",
      "\u001b[32m2023-12-01 15:48:13\u001b[0m \u001b[35mAERO15\u001b[0m \u001b[34mmy_logger[24180]\u001b[0m \u001b[1;30mCRITICAL\u001b[0m \u001b[1;31mThis is a critical message\u001b[0m\n"
     ]
    }
   ],
   "source": [
    "import logging, coloredlogs\n",
    "\n",
    "logger = logging.getLogger(\"my_logger\")  # Create a logger object\n",
    "coloredlogs.install(level=\"DEBUG\", logger=logger)  # Install coloredlogs\n",
    "\n",
    "# Log some messages\n",
    "logger.debug(\"This is a debug message\")\n",
    "logger.info(\"This is an info message\")\n",
    "logger.warning(\"This is a warning message\")\n",
    "logger.error(\"This is an error message\")\n",
    "logger.critical(\"This is a critical message\")"
   ]
  },
  {
   "cell_type": "markdown",
   "metadata": {},
   "source": [
    "- Customizing `coloredlogs`"
   ]
  },
  {
   "cell_type": "code",
   "execution_count": 19,
   "metadata": {},
   "outputs": [],
   "source": [
    "coloredlogs.install(\n",
    "    level=\"DEBUG\",\n",
    "    logger=logger,\n",
    "    fmt=\"%(asctime)s - %(name)s - %(levelname)s - %(message)s\",\n",
    "    datefmt=\"%H:%M:%S\",\n",
    ")"
   ]
  },
  {
   "cell_type": "markdown",
   "metadata": {},
   "source": [
    "- Using coloredlogs with File Handlers"
   ]
  },
  {
   "cell_type": "code",
   "execution_count": 20,
   "metadata": {},
   "outputs": [],
   "source": [
    "# File handler for logging to a file\n",
    "file_handler = logging.FileHandler('my_log.log') # -> logging 모듈내에 있는 file handler 클래스로부터 instance object 생성\n",
    "file_handler.setFormatter(logging.Formatter('%(asctime)s - %(levelname)s - %(message)s')) # -> 생성된 핸들러 object의 포맷 설정\n",
    "logger.addHandler(file_handler) # -> logger instance object에 파일 핸들러 object를 등록, 이후 로그메시지는 파일로 저장된다. (파일에는 color가 적용되지 않음)"
   ]
  },
  {
   "cell_type": "markdown",
   "metadata": {},
   "source": [
    "- logger는 Namespace별 별도로 만들어 사용할 수 있다."
   ]
  },
  {
   "cell_type": "code",
   "execution_count": 21,
   "metadata": {},
   "outputs": [
    {
     "name": "stdout",
     "output_type": "stream",
     "text": [
      "args.log: DEBUG\n"
     ]
    }
   ],
   "source": [
    "class attrdict(dict):  # dict의 모든 기능에 . 연산이 가능하도록 하는 dict 파생클래스 정의\n",
    "    __getattr__ = dict.__getitem__  # 파이썬 언어의 first class 기능, 함수도 value처럼 사용 가능하다.\n",
    "    __setattr__ = dict.__setitem__\n",
    "    __delattr__ = dict.__delitem__\n",
    "\n",
    "\n",
    "args = attrdict({\"log\": \"debug\"})  # attrdict(dict(log='debug'))도 가능\n",
    "\n",
    "\n",
    "logger = logging.getLogger(__name__)  # __name__: 이 코드가 정의되는 Namespace 이름: 파이썬 데이터 모델 참조 (https://docs.python.org/3/reference/datamodel.html)\n",
    "coloredlogs.install(\n",
    "    level=args.log.upper(),  # print(f\"args.log: {args.log.upper()}\") 출력 참조\n",
    "    logger=logger,\n",
    ")\n",
    "\n",
    "print(f\"args.log: {args.log.upper()}\")"
   ]
  },
  {
   "cell_type": "markdown",
   "metadata": {},
   "source": [
    "#### 📌 Namespace 개념 : 일반적으로 Object 가 정의된 바로 상위(부모) 공간(boundary)을 말한다.\n",
    " - 파일이면 파일이 속한 폴더명이 Namespace\n",
    " - 파일내에 정의된 함수나 클래스는 해당 파일명이 Namespace\n",
    " - 함수안에 있는 로컬변수는 함수명이 Namespace\n",
    " - Class안에 있는 state 변수는 클래스명 Namespace\n",
    " - 객체 `AAA.BBB.CCC.DDD` 에서 `DDD`의 Namespace는 `CCC`가 된다.\n",
    " - 파이썬 코드에서 새로운(?) 객체(object)를 만나면, 타입이 무엇인지? 그 코드 라인의 Namespace가 어디인지 잘 이해해야 한다.\n",
    " - 사람은 폴더안에 무슨 파일이 있는지? 궁금해 하지만, Code는 자신이 실행 중 어떤 폴더(`Namespace`)에 있는가?를 아는 것이 메우 중요하다."
   ]
  },
  {
   "cell_type": "markdown",
   "metadata": {},
   "source": [
    "파이썬에서 네임스페이스(namespace)는 이름(식별자)이 객체(변수, 함수, 클래스 등)에 매핑되는 컬렉션입니다. 이는 프로그램 내에서 같은 이름을 여러 부분에서 다른 용도로 사용하려 할 때 충돌을 방지하기 위해 사용됩니다. 각 네임스페이스는 정의된 모든 이름을 추적하는 종류의 \"주소록\" 역할을 하며, 이름이 사용될 때 모호함이 없도록 보장합니다.\n",
    "\n",
    "파이썬의 네임스페이스에 대한 몇 가지 중요한 측면은 다음과 같습니다:\n",
    "\n",
    "##### 1. 네임스페이스의 종류:\n",
    "\n",
    "- 로컬 네임스페이스(Local Namespace): 함수 내부의 지역 이름을 포함합니다. 이 네임스페이스는 함수가 호출될 때 생성되고 함수가 반환될 때까지만 지속됩니다.\n",
    "- 글로벌 네임스페이스(Global Namespace): 현재 프로젝트에서 사용되는 다양한 임포트된 모듈의 이름을 포함합니다. 이 네임스페이스는 모듈이 읽혀질 때 생성되고 스크립트가 끝날 때까지 지속됩니다.\n",
    "- 빌트인 네임스페이스(Built-in Namespace): 빌트인 함수와 예외 이름을 포함합니다.\n",
    "\n",
    "##### 2. 네임스페이스의 수명: \n",
    "네임스페이스의 수명은 그것이 정의하는 객체의 범위에 따라 다릅니다. 예를 들어, 함수 내의 로컬 네임스페이스는 함수 호출이 끝나면 사라지지만, 글로벌 네임스페이스는 스크립트가 끝날 때까지 지속됩니다.\n",
    "\n",
    "##### 3. 네임스페이스 접근: \n",
    "globals() 함수를 사용하여 글로벌 네임스페이스에 접근하고, locals() 함수를 사용하여 로컬 네임스페이스에 접근할 수 있습니다.\n",
    "\n",
    "##### 4. 모듈은 네임스페이스로 작동: \n",
    "파이썬에서 각 모듈은 자체 글로벌 네임스페이스를 갖습니다. 이는 한 모듈에서 정의된 이름이 다른 모듈의 이름과 충돌하지 않음을 의미합니다. 일반적으로 이러한 이름은 점 표기법(예: module_name.variable_name)을 사용하여 접근합니다.\n",
    "\n",
    "명시적인 네임스페이스 선언 부재: C++이나 C#과 같은 다른 언어들과 달리, 파이썬에는 네임스페이스를 선언하기 위한 명시적인 문법이 없습니다. 대신, 모듈, 클래스, 함수의 정의와 함께 암시적으로 생성됩니다.\n",
    "\n",
    "##### 5. 범위 해결: \n",
    "파이썬은 이름 해결을 위해 LEGB 규칙(Local, Enclosing, Global, Built-in)을 따릅니다. 즉, 이름을 사용할 때 파이썬은 이 순서대로 네임스페이스를 검색하여 이름이 어디에 정의되어 있는지 찾습니다.\n",
    "    \n",
    "요약하자면, 파이썬에서의 네임스페이스는 프로그램 내에서 다양한 식별자를 조직하고 관리하는 핵심 개념으로, 이 식별자들의 사용에 있어서 모호함이 없도록 보장합니다."
   ]
  },
  {
   "cell_type": "markdown",
   "metadata": {},
   "source": [
    "### 📌 mediapipe\n",
    "[구글 미디어파이프, Create the task 부분 참조](https://developers.google.com/mediapipe/solutions/vision/hand_landmarker/python#create_the_task)   \n",
    "- Live Stream 모드 코드 샘플   \n",
    "```python\n",
    "import mediapipe as mp\n",
    "\n",
    "BaseOptions = mp.tasks.BaseOptions\n",
    "HandLandmarker = mp.tasks.vision.HandLandmarker\n",
    "HandLandmarkerOptions = mp.tasks.vision.HandLandmarkerOptions\n",
    "HandLandmarkerResult = mp.tasks.vision.HandLandmarkerResult\n",
    "VisionRunningMode = mp.tasks.vision.RunningMode\n",
    "\n",
    "a = b = c = None \n",
    "# Create a hand landmarker instance with the live stream mode:\n",
    "def print_result(result: HandLandmarkerResult, output_image: mp.Image, timestamp_ms: int):\n",
    "    nonlocal a, b, c\n",
    "    a = result\n",
    "    b = output_image.numpy_view()\n",
    "    c = timestamp_ms\n",
    "    print('hand landmarker result: {}'.format(result))\n",
    "\n",
    "options = HandLandmarkerOptions(\n",
    "    base_options=BaseOptions(model_asset_path='/path/to/model.task'),  -> 미리 mediapipe 사이트에서 모델 파라미터를 다운받아 저장해 둔다. (e.g. models 폴더)\n",
    "    running_mode=VisionRunningMode.LIVE_STREAM,\n",
    "    result_callback=print_result)\n",
    "with HandLandmarker.create_from_options(options) as landmarker:\n",
    "    # The landmarker is initialized. Use it here.\n",
    "    # ...\n",
    "    \n",
    "```\n",
    "\n",
    "- Live stream mode는 async 방식을 사용한다. 콜백(callback) 함수(e.g. `print_result`)를 정의하여 mediapipe Detection Agent(e.g. `landmarker`)에 등록하면 Agent가 검출 완료시 자동으로 실행해 준다.\n",
    "- `main_live.py` 코드 참조"
   ]
  },
  {
   "cell_type": "code",
   "execution_count": 22,
   "metadata": {},
   "outputs": [
    {
     "name": "stderr",
     "output_type": "stream",
     "text": [
      "\u001b[32m2023-12-01 15:48:16\u001b[0m \u001b[35mAERO15\u001b[0m \u001b[34m__main__[24180]\u001b[0m \u001b[1;30mDEBUG\u001b[0m \u001b[32mdetection_result:\n",
      " HandLandmarkerResult(handedness=[], hand_landmarks=[], hand_world_landmarks=[])\u001b[0m\n",
      "\u001b[32m2023-12-01 15:48:16\u001b[0m \u001b[35mAERO15\u001b[0m \u001b[34m__main__[24180]\u001b[0m \u001b[1;30mDEBUG\u001b[0m \u001b[32mdetection_result:\n",
      " HandLandmarkerResult(handedness=[], hand_landmarks=[], hand_world_landmarks=[])\u001b[0m\n",
      "\u001b[32m2023-12-01 15:48:16\u001b[0m \u001b[35mAERO15\u001b[0m \u001b[34m__main__[24180]\u001b[0m \u001b[1;30mDEBUG\u001b[0m \u001b[32mdetection_result:\n",
      " HandLandmarkerResult(handedness=[], hand_landmarks=[], hand_world_landmarks=[])\u001b[0m\n",
      "\u001b[32m2023-12-01 15:48:16\u001b[0m \u001b[35mAERO15\u001b[0m \u001b[34m__main__[24180]\u001b[0m \u001b[1;30mDEBUG\u001b[0m \u001b[32mdetection_result:\n",
      " HandLandmarkerResult(handedness=[], hand_landmarks=[], hand_world_landmarks=[])\u001b[0m\n",
      "\u001b[32m2023-12-01 15:48:16\u001b[0m \u001b[35mAERO15\u001b[0m \u001b[34m__main__[24180]\u001b[0m \u001b[1;30mDEBUG\u001b[0m \u001b[32mdetection_result:\n",
      " HandLandmarkerResult(handedness=[], hand_landmarks=[], hand_world_landmarks=[])\u001b[0m\n",
      "\u001b[32m2023-12-01 15:48:17\u001b[0m \u001b[35mAERO15\u001b[0m \u001b[34m__main__[24180]\u001b[0m \u001b[1;30mDEBUG\u001b[0m \u001b[32mdetection_result:\n",
      " HandLandmarkerResult(handedness=[], hand_landmarks=[], hand_world_landmarks=[])\u001b[0m\n",
      "\u001b[32m2023-12-01 15:48:17\u001b[0m \u001b[35mAERO15\u001b[0m \u001b[34m__main__[24180]\u001b[0m \u001b[1;30mDEBUG\u001b[0m \u001b[32mdetection_result:\n",
      " HandLandmarkerResult(handedness=[], hand_landmarks=[], hand_world_landmarks=[])\u001b[0m\n",
      "\u001b[32m2023-12-01 15:48:17\u001b[0m \u001b[35mAERO15\u001b[0m \u001b[34m__main__[24180]\u001b[0m \u001b[1;30mDEBUG\u001b[0m \u001b[32mdetection_result:\n",
      " HandLandmarkerResult(handedness=[], hand_landmarks=[], hand_world_landmarks=[])\u001b[0m\n",
      "\u001b[32m2023-12-01 15:48:17\u001b[0m \u001b[35mAERO15\u001b[0m \u001b[34m__main__[24180]\u001b[0m \u001b[1;30mDEBUG\u001b[0m \u001b[32mdetection_result:\n",
      " HandLandmarkerResult(handedness=[], hand_landmarks=[], hand_world_landmarks=[])\u001b[0m\n",
      "\u001b[32m2023-12-01 15:48:17\u001b[0m \u001b[35mAERO15\u001b[0m \u001b[34m__main__[24180]\u001b[0m \u001b[1;30mDEBUG\u001b[0m \u001b[32mdetection_result:\n",
      " HandLandmarkerResult(handedness=[], hand_landmarks=[], hand_world_landmarks=[])\u001b[0m\n",
      "\u001b[32m2023-12-01 15:48:17\u001b[0m \u001b[35mAERO15\u001b[0m \u001b[34m__main__[24180]\u001b[0m \u001b[1;30mDEBUG\u001b[0m \u001b[32mdetection_result:\n",
      " HandLandmarkerResult(handedness=[], hand_landmarks=[], hand_world_landmarks=[])\u001b[0m\n",
      "\u001b[32m2023-12-01 15:48:17\u001b[0m \u001b[35mAERO15\u001b[0m \u001b[34m__main__[24180]\u001b[0m \u001b[1;30mDEBUG\u001b[0m \u001b[32mdetection_result:\n",
      " HandLandmarkerResult(handedness=[], hand_landmarks=[], hand_world_landmarks=[])\u001b[0m\n",
      "\u001b[32m2023-12-01 15:48:17\u001b[0m \u001b[35mAERO15\u001b[0m \u001b[34m__main__[24180]\u001b[0m \u001b[1;30mDEBUG\u001b[0m \u001b[32mdetection_result:\n",
      " HandLandmarkerResult(handedness=[], hand_landmarks=[], hand_world_landmarks=[])\u001b[0m\n",
      "\u001b[32m2023-12-01 15:48:17\u001b[0m \u001b[35mAERO15\u001b[0m \u001b[34m__main__[24180]\u001b[0m \u001b[1;30mDEBUG\u001b[0m \u001b[32mdetection_result:\n",
      " HandLandmarkerResult(handedness=[], hand_landmarks=[], hand_world_landmarks=[])\u001b[0m\n",
      "\u001b[32m2023-12-01 15:48:17\u001b[0m \u001b[35mAERO15\u001b[0m \u001b[34m__main__[24180]\u001b[0m \u001b[1;30mDEBUG\u001b[0m \u001b[32mdetection_result:\n",
      " HandLandmarkerResult(handedness=[], hand_landmarks=[], hand_world_landmarks=[])\u001b[0m\n",
      "\u001b[32m2023-12-01 15:48:17\u001b[0m \u001b[35mAERO15\u001b[0m \u001b[34m__main__[24180]\u001b[0m \u001b[1;30mDEBUG\u001b[0m \u001b[32mdetection_result:\n",
      " HandLandmarkerResult(handedness=[], hand_landmarks=[], hand_world_landmarks=[])\u001b[0m\n",
      "\u001b[32m2023-12-01 15:48:17\u001b[0m \u001b[35mAERO15\u001b[0m \u001b[34m__main__[24180]\u001b[0m \u001b[1;30mDEBUG\u001b[0m \u001b[32mdetection_result:\n",
      " HandLandmarkerResult(handedness=[], hand_landmarks=[], hand_world_landmarks=[])\u001b[0m\n",
      "\u001b[32m2023-12-01 15:48:17\u001b[0m \u001b[35mAERO15\u001b[0m \u001b[34m__main__[24180]\u001b[0m \u001b[1;30mDEBUG\u001b[0m \u001b[32mdetection_result:\n",
      " HandLandmarkerResult(handedness=[], hand_landmarks=[], hand_world_landmarks=[])\u001b[0m\n",
      "\u001b[32m2023-12-01 15:48:17\u001b[0m \u001b[35mAERO15\u001b[0m \u001b[34m__main__[24180]\u001b[0m \u001b[1;30mDEBUG\u001b[0m \u001b[32mdetection_result:\n",
      " HandLandmarkerResult(handedness=[], hand_landmarks=[], hand_world_landmarks=[])\u001b[0m\n",
      "\u001b[32m2023-12-01 15:48:17\u001b[0m \u001b[35mAERO15\u001b[0m \u001b[34m__main__[24180]\u001b[0m \u001b[1;30mDEBUG\u001b[0m \u001b[32mdetection_result:\n",
      " HandLandmarkerResult(handedness=[], hand_landmarks=[], hand_world_landmarks=[])\u001b[0m\n",
      "\u001b[32m2023-12-01 15:48:17\u001b[0m \u001b[35mAERO15\u001b[0m \u001b[34m__main__[24180]\u001b[0m \u001b[1;30mDEBUG\u001b[0m \u001b[32mdetection_result:\n",
      " HandLandmarkerResult(handedness=[], hand_landmarks=[], hand_world_landmarks=[])\u001b[0m\n",
      "\u001b[32m2023-12-01 15:48:17\u001b[0m \u001b[35mAERO15\u001b[0m \u001b[34m__main__[24180]\u001b[0m \u001b[1;30mDEBUG\u001b[0m \u001b[32mdetection_result:\n",
      " HandLandmarkerResult(handedness=[], hand_landmarks=[], hand_world_landmarks=[])\u001b[0m\n",
      "\u001b[32m2023-12-01 15:48:17\u001b[0m \u001b[35mAERO15\u001b[0m \u001b[34m__main__[24180]\u001b[0m \u001b[1;30mDEBUG\u001b[0m \u001b[32mdetection_result:\n",
      " HandLandmarkerResult(handedness=[], hand_landmarks=[], hand_world_landmarks=[])\u001b[0m\n",
      "\u001b[32m2023-12-01 15:48:17\u001b[0m \u001b[35mAERO15\u001b[0m \u001b[34m__main__[24180]\u001b[0m \u001b[1;30mDEBUG\u001b[0m \u001b[32mdetection_result:\n",
      " HandLandmarkerResult(handedness=[], hand_landmarks=[], hand_world_landmarks=[])\u001b[0m\n",
      "\u001b[32m2023-12-01 15:48:17\u001b[0m \u001b[35mAERO15\u001b[0m \u001b[34m__main__[24180]\u001b[0m \u001b[1;30mDEBUG\u001b[0m \u001b[32mdetection_result:\n",
      " HandLandmarkerResult(handedness=[], hand_landmarks=[], hand_world_landmarks=[])\u001b[0m\n",
      "\u001b[32m2023-12-01 15:48:17\u001b[0m \u001b[35mAERO15\u001b[0m \u001b[34m__main__[24180]\u001b[0m \u001b[1;30mDEBUG\u001b[0m \u001b[32mdetection_result:\n",
      " HandLandmarkerResult(handedness=[], hand_landmarks=[], hand_world_landmarks=[])\u001b[0m\n",
      "\u001b[32m2023-12-01 15:48:18\u001b[0m \u001b[35mAERO15\u001b[0m \u001b[34m__main__[24180]\u001b[0m \u001b[1;30mDEBUG\u001b[0m \u001b[32mdetection_result:\n",
      " HandLandmarkerResult(handedness=[], hand_landmarks=[], hand_world_landmarks=[])\u001b[0m\n",
      "\u001b[32m2023-12-01 15:48:18\u001b[0m \u001b[35mAERO15\u001b[0m \u001b[34m__main__[24180]\u001b[0m \u001b[1;30mDEBUG\u001b[0m \u001b[32mdetection_result:\n",
      " HandLandmarkerResult(handedness=[], hand_landmarks=[], hand_world_landmarks=[])\u001b[0m\n",
      "\u001b[32m2023-12-01 15:48:18\u001b[0m \u001b[35mAERO15\u001b[0m \u001b[34m__main__[24180]\u001b[0m \u001b[1;30mDEBUG\u001b[0m \u001b[32mdetection_result:\n",
      " HandLandmarkerResult(handedness=[], hand_landmarks=[], hand_world_landmarks=[])\u001b[0m\n",
      "\u001b[32m2023-12-01 15:48:18\u001b[0m \u001b[35mAERO15\u001b[0m \u001b[34m__main__[24180]\u001b[0m \u001b[1;30mDEBUG\u001b[0m \u001b[32mdetection_result:\n",
      " HandLandmarkerResult(handedness=[], hand_landmarks=[], hand_world_landmarks=[])\u001b[0m\n",
      "\u001b[32m2023-12-01 15:48:18\u001b[0m \u001b[35mAERO15\u001b[0m \u001b[34m__main__[24180]\u001b[0m \u001b[1;30mDEBUG\u001b[0m \u001b[32mdetection_result:\n",
      " HandLandmarkerResult(handedness=[], hand_landmarks=[], hand_world_landmarks=[])\u001b[0m\n",
      "\u001b[32m2023-12-01 15:48:18\u001b[0m \u001b[35mAERO15\u001b[0m \u001b[34m__main__[24180]\u001b[0m \u001b[1;30mDEBUG\u001b[0m \u001b[32mdetection_result:\n",
      " HandLandmarkerResult(handedness=[], hand_landmarks=[], hand_world_landmarks=[])\u001b[0m\n",
      "\u001b[32m2023-12-01 15:48:18\u001b[0m \u001b[35mAERO15\u001b[0m \u001b[34m__main__[24180]\u001b[0m \u001b[1;30mDEBUG\u001b[0m \u001b[32mdetection_result:\n",
      " HandLandmarkerResult(handedness=[], hand_landmarks=[], hand_world_landmarks=[])\u001b[0m\n",
      "\u001b[32m2023-12-01 15:48:18\u001b[0m \u001b[35mAERO15\u001b[0m \u001b[34m__main__[24180]\u001b[0m \u001b[1;30mDEBUG\u001b[0m \u001b[32mdetection_result:\n",
      " HandLandmarkerResult(handedness=[], hand_landmarks=[], hand_world_landmarks=[])\u001b[0m\n",
      "\u001b[32m2023-12-01 15:48:18\u001b[0m \u001b[35mAERO15\u001b[0m \u001b[34m__main__[24180]\u001b[0m \u001b[1;30mDEBUG\u001b[0m \u001b[32mdetection_result:\n",
      " HandLandmarkerResult(handedness=[], hand_landmarks=[], hand_world_landmarks=[])\u001b[0m\n",
      "\u001b[32m2023-12-01 15:48:18\u001b[0m \u001b[35mAERO15\u001b[0m \u001b[34m__main__[24180]\u001b[0m \u001b[1;30mDEBUG\u001b[0m \u001b[32mdetection_result:\n",
      " HandLandmarkerResult(handedness=[], hand_landmarks=[], hand_world_landmarks=[])\u001b[0m\n",
      "\u001b[32m2023-12-01 15:48:18\u001b[0m \u001b[35mAERO15\u001b[0m \u001b[34m__main__[24180]\u001b[0m \u001b[1;30mDEBUG\u001b[0m \u001b[32mdetection_result:\n",
      " HandLandmarkerResult(handedness=[], hand_landmarks=[], hand_world_landmarks=[])\u001b[0m\n",
      "\u001b[32m2023-12-01 15:48:18\u001b[0m \u001b[35mAERO15\u001b[0m \u001b[34m__main__[24180]\u001b[0m \u001b[1;30mDEBUG\u001b[0m \u001b[32mdetection_result:\n",
      " HandLandmarkerResult(handedness=[], hand_landmarks=[], hand_world_landmarks=[])\u001b[0m\n",
      "\u001b[32m2023-12-01 15:48:18\u001b[0m \u001b[35mAERO15\u001b[0m \u001b[34m__main__[24180]\u001b[0m \u001b[1;30mDEBUG\u001b[0m \u001b[32mdetection_result:\n",
      " HandLandmarkerResult(handedness=[], hand_landmarks=[], hand_world_landmarks=[])\u001b[0m\n",
      "\u001b[32m2023-12-01 15:48:18\u001b[0m \u001b[35mAERO15\u001b[0m \u001b[34m__main__[24180]\u001b[0m \u001b[1;30mDEBUG\u001b[0m \u001b[32mdetection_result:\n",
      " HandLandmarkerResult(handedness=[], hand_landmarks=[], hand_world_landmarks=[])\u001b[0m\n",
      "\u001b[32m2023-12-01 15:48:18\u001b[0m \u001b[35mAERO15\u001b[0m \u001b[34m__main__[24180]\u001b[0m \u001b[1;30mDEBUG\u001b[0m \u001b[32mdetection_result:\n",
      " HandLandmarkerResult(handedness=[], hand_landmarks=[], hand_world_landmarks=[])\u001b[0m\n",
      "\u001b[32m2023-12-01 15:48:18\u001b[0m \u001b[35mAERO15\u001b[0m \u001b[34m__main__[24180]\u001b[0m \u001b[1;30mDEBUG\u001b[0m \u001b[32mdetection_result:\n",
      " HandLandmarkerResult(handedness=[], hand_landmarks=[], hand_world_landmarks=[])\u001b[0m\n",
      "\u001b[32m2023-12-01 15:48:18\u001b[0m \u001b[35mAERO15\u001b[0m \u001b[34m__main__[24180]\u001b[0m \u001b[1;30mDEBUG\u001b[0m \u001b[32mdetection_result:\n",
      " HandLandmarkerResult(handedness=[], hand_landmarks=[], hand_world_landmarks=[])\u001b[0m\n",
      "\u001b[32m2023-12-01 15:48:18\u001b[0m \u001b[35mAERO15\u001b[0m \u001b[34m__main__[24180]\u001b[0m \u001b[1;30mDEBUG\u001b[0m \u001b[32mdetection_result:\n",
      " HandLandmarkerResult(handedness=[], hand_landmarks=[], hand_world_landmarks=[])\u001b[0m\n",
      "\u001b[32m2023-12-01 15:48:18\u001b[0m \u001b[35mAERO15\u001b[0m \u001b[34m__main__[24180]\u001b[0m \u001b[1;30mDEBUG\u001b[0m \u001b[32mdetection_result:\n",
      " HandLandmarkerResult(handedness=[[Category(index=1, score=0.9860953688621521, display_name='Left', category_name='Left')]], hand_landmarks=[[NormalizedLandmark(x=0.6733598709106445, y=0.8178738355636597, z=-4.694872934862815e-09, visibility=0.0, presence=0.0), NormalizedLandmark(x=0.6196913123130798, y=0.8445944786071777, z=0.0023032845929265022, visibility=0.0, presence=0.0), NormalizedLandmark(x=0.5940766930580139, y=0.8943764567375183, z=-0.0003621369251050055, visibility=0.0, presence=0.0), NormalizedLandmark(x=0.5837592482566833, y=0.9417365789413452, z=-0.0046025896444916725, visibility=0.0, presence=0.0), NormalizedLandmark(x=0.582098126411438, y=0.9748900532722473, z=-0.008555049076676369, visibility=0.0, presence=0.0), NormalizedLandmark(x=0.6029528379440308, y=0.9384816288948059, z=-0.002971106208860874, visibility=0.0, presence=0.0), NormalizedLandmark(x=0.5865997076034546, y=0.9862819910049438, z=-0.010619686916470528, visibility=0.0, presence=0.0), NormalizedLandmark(x=0.5890671610832214, y=0.9655933380126953, z=-0.017089998349547386, visibility=0.0, presence=0.0), NormalizedLandmark(x=0.5945058465003967, y=0.9453684091567993, z=-0.020433759316802025, visibility=0.0, presence=0.0), NormalizedLandmark(x=0.630169689655304, y=0.9491328001022339, z=-0.00663444260135293, visibility=0.0, presence=0.0), NormalizedLandmark(x=0.6148227453231812, y=0.9851571321487427, z=-0.007751780562102795, visibility=0.0, presence=0.0), NormalizedLandmark(x=0.6134451031684875, y=0.9643111824989319, z=-0.00799686647951603, visibility=0.0, presence=0.0), NormalizedLandmark(x=0.6169016361236572, y=0.9432650804519653, z=-0.010071514174342155, visibility=0.0, presence=0.0), NormalizedLandmark(x=0.6574968099594116, y=0.9519329071044922, z=-0.010311844758689404, visibility=0.0, presence=0.0), NormalizedLandmark(x=0.6409105658531189, y=0.976678192615509, z=-0.008798882365226746, visibility=0.0, presence=0.0), NormalizedLandmark(x=0.6396301984786987, y=0.959026038646698, z=-0.003536481875926256, visibility=0.0, presence=0.0), NormalizedLandmark(x=0.6440250873565674, y=0.940923273563385, z=-0.002116618910804391, visibility=0.0, presence=0.0), NormalizedLandmark(x=0.6821237802505493, y=0.9488943815231323, z=-0.013961237855255604, visibility=0.0, presence=0.0), NormalizedLandmark(x=0.6651055216789246, y=0.9649053812026978, z=-0.009570205584168434, visibility=0.0, presence=0.0), NormalizedLandmark(x=0.6623797416687012, y=0.9498991370201111, z=-0.0020153610967099667, visibility=0.0, presence=0.0), NormalizedLandmark(x=0.6666621565818787, y=0.9364790916442871, z=0.002601955784484744, visibility=0.0, presence=0.0)]], hand_world_landmarks=[[Landmark(x=0.029378732666373253, y=-0.06452760100364685, z=0.053599949926137924, visibility=0.0, presence=0.0), Landmark(x=-0.003072405233979225, y=-0.04911774396896362, z=0.04652645066380501, visibility=0.0, presence=0.0), Landmark(x=-0.026810940355062485, y=-0.026465201750397682, z=0.04073183983564377, visibility=0.0, presence=0.0), Landmark(x=-0.034557320177555084, y=-0.0010698772966861725, z=0.027243470773100853, visibility=0.0, presence=0.0), Landmark(x=-0.035279110074043274, y=0.015592547133564949, z=0.0076207187958061695, visibility=0.0, presence=0.0), Landmark(x=-0.016314532607793808, y=-0.0003851987421512604, z=0.0011150753125548363, visibility=0.0, presence=0.0), Landmark(x=-0.026915956288576126, y=0.010114149190485477, z=0.0036827370058745146, visibility=0.0, presence=0.0), Landmark(x=-0.0315445251762867, y=0.010979076847434044, z=0.02556467428803444, visibility=0.0, presence=0.0), Landmark(x=-0.023982329294085503, y=0.004268175922334194, z=0.04916052520275116, visibility=0.0, presence=0.0), Landmark(x=0.0002291640266776085, y=0.0015432091895490885, z=-0.00132158980704844, visibility=0.0, presence=0.0), Landmark(x=-0.013983910903334618, y=0.01893819123506546, z=0.0046092611737549305, visibility=0.0, presence=0.0), Landmark(x=-0.014297918416559696, y=0.011830626055598259, z=0.02922477014362812, visibility=0.0, presence=0.0), Landmark(x=-0.014851655811071396, y=0.00669811712577939, z=0.05056041106581688, visibility=0.0, presence=0.0), Landmark(x=0.010346340015530586, y=0.002044801600277424, z=-0.0017873251345008612, visibility=0.0, presence=0.0), Landmark(x=0.0008813338354229927, y=0.012836629524827003, z=0.00922919437289238, visibility=0.0, presence=0.0), Landmark(x=9.772460907697678e-05, y=0.006032516248524189, z=0.03685062751173973, visibility=0.0, presence=0.0), Landmark(x=0.003035972360521555, y=-0.0022414757404476404, z=0.05244206637144089, visibility=0.0, presence=0.0), Landmark(x=0.027163434773683548, y=-0.00030950549989938736, z=0.008635977283120155, visibility=0.0, presence=0.0), Landmark(x=0.016524357721209526, y=0.009209815412759781, z=0.01850389689207077, visibility=0.0, presence=0.0), Landmark(x=0.01328444853425026, y=0.005754714831709862, z=0.03751496225595474, visibility=0.0, presence=0.0), Landmark(x=0.017822686582803726, y=1.837499439716339e-05, z=0.042715027928352356, visibility=0.0, presence=0.0)]])\u001b[0m\n",
      "\u001b[32m2023-12-01 15:48:18\u001b[0m \u001b[35mAERO15\u001b[0m \u001b[34mutils[24180]\u001b[0m \u001b[1;30mWARNING\u001b[0m \u001b[33mdraw_fingercount_on_image() function called without algorithm !!!\u001b[0m\n",
      "\u001b[32m2023-12-01 15:48:18\u001b[0m \u001b[35mAERO15\u001b[0m \u001b[34m__main__[24180]\u001b[0m \u001b[1;30mDEBUG\u001b[0m \u001b[32mdetection_result:\n",
      " HandLandmarkerResult(handedness=[], hand_landmarks=[], hand_world_landmarks=[])\u001b[0m\n",
      "\u001b[32m2023-12-01 15:48:19\u001b[0m \u001b[35mAERO15\u001b[0m \u001b[34m__main__[24180]\u001b[0m \u001b[1;30mDEBUG\u001b[0m \u001b[32mdetection_result:\n",
      " HandLandmarkerResult(handedness=[], hand_landmarks=[], hand_world_landmarks=[])\u001b[0m\n",
      "\u001b[32m2023-12-01 15:48:19\u001b[0m \u001b[35mAERO15\u001b[0m \u001b[34m__main__[24180]\u001b[0m \u001b[1;30mDEBUG\u001b[0m \u001b[32mdetection_result:\n",
      " HandLandmarkerResult(handedness=[], hand_landmarks=[], hand_world_landmarks=[])\u001b[0m\n",
      "\u001b[32m2023-12-01 15:48:19\u001b[0m \u001b[35mAERO15\u001b[0m \u001b[34m__main__[24180]\u001b[0m \u001b[1;30mDEBUG\u001b[0m \u001b[32mdetection_result:\n",
      " HandLandmarkerResult(handedness=[], hand_landmarks=[], hand_world_landmarks=[])\u001b[0m\n",
      "\u001b[32m2023-12-01 15:48:19\u001b[0m \u001b[35mAERO15\u001b[0m \u001b[34m__main__[24180]\u001b[0m \u001b[1;30mDEBUG\u001b[0m \u001b[32mdetection_result:\n",
      " HandLandmarkerResult(handedness=[], hand_landmarks=[], hand_world_landmarks=[])\u001b[0m\n",
      "\u001b[32m2023-12-01 15:48:19\u001b[0m \u001b[35mAERO15\u001b[0m \u001b[34m__main__[24180]\u001b[0m \u001b[1;30mDEBUG\u001b[0m \u001b[32mdetection_result:\n",
      " HandLandmarkerResult(handedness=[], hand_landmarks=[], hand_world_landmarks=[])\u001b[0m\n",
      "\u001b[32m2023-12-01 15:48:19\u001b[0m \u001b[35mAERO15\u001b[0m \u001b[34m__main__[24180]\u001b[0m \u001b[1;30mDEBUG\u001b[0m \u001b[32mdetection_result:\n",
      " HandLandmarkerResult(handedness=[], hand_landmarks=[], hand_world_landmarks=[])\u001b[0m\n",
      "\u001b[32m2023-12-01 15:48:19\u001b[0m \u001b[35mAERO15\u001b[0m \u001b[34m__main__[24180]\u001b[0m \u001b[1;30mDEBUG\u001b[0m \u001b[32mdetection_result:\n",
      " HandLandmarkerResult(handedness=[], hand_landmarks=[], hand_world_landmarks=[])\u001b[0m\n",
      "\u001b[32m2023-12-01 15:48:19\u001b[0m \u001b[35mAERO15\u001b[0m \u001b[34m__main__[24180]\u001b[0m \u001b[1;30mDEBUG\u001b[0m \u001b[32mdetection_result:\n",
      " HandLandmarkerResult(handedness=[], hand_landmarks=[], hand_world_landmarks=[])\u001b[0m\n",
      "\u001b[32m2023-12-01 15:48:19\u001b[0m \u001b[35mAERO15\u001b[0m \u001b[34m__main__[24180]\u001b[0m \u001b[1;30mDEBUG\u001b[0m \u001b[32mdetection_result:\n",
      " HandLandmarkerResult(handedness=[], hand_landmarks=[], hand_world_landmarks=[])\u001b[0m\n",
      "\u001b[32m2023-12-01 15:48:19\u001b[0m \u001b[35mAERO15\u001b[0m \u001b[34m__main__[24180]\u001b[0m \u001b[1;30mDEBUG\u001b[0m \u001b[32mdetection_result:\n",
      " HandLandmarkerResult(handedness=[], hand_landmarks=[], hand_world_landmarks=[])\u001b[0m\n",
      "\u001b[32m2023-12-01 15:48:19\u001b[0m \u001b[35mAERO15\u001b[0m \u001b[34m__main__[24180]\u001b[0m \u001b[1;30mDEBUG\u001b[0m \u001b[32mdetection_result:\n",
      " HandLandmarkerResult(handedness=[], hand_landmarks=[], hand_world_landmarks=[])\u001b[0m\n"
     ]
    }
   ],
   "source": [
    "import cv2\n",
    "import mediapipe as mp\n",
    "from mediapipe.tasks import python\n",
    "from mediapipe.tasks.python import vision\n",
    "import logging, coloredlogs\n",
    "\n",
    "try:\n",
    "    from settings import *\n",
    "    from utils import draw_fingercount_on_image\n",
    "except:\n",
    "    import sys\n",
    "    sys.path.insert(0, \"..\") # 상위폴더를 import search path에 추가, cwd(current working directory) is 'notebook', not 'OSS-PROJECT-13'\n",
    "    from settings import *\n",
    "    from utils import draw_fingercount_on_image\n",
    "\n",
    "logger = logging.getLogger(__name__)\n",
    "coloredlogs.install(level=\"DEBUG\", logger=logger)  # logger 설정\n",
    "\n",
    "cap = cv2.VideoCapture(0)\n",
    "\n",
    "# https://developers.google.com/mediapipe/solutions/vision/hand_landmarker/python#video\n",
    "base_options = python.BaseOptions(model_asset_path=root / \"models/hand_landmarker.task\")\n",
    "options = vision.HandLandmarkerOptions(base_options=base_options, num_hands=2)\n",
    "with vision.HandLandmarker.create_from_options(options) as detector: # -> 'detector' context 범위, similar to file operation\n",
    "    while True:\n",
    "        success, image_origin = cap.read()\n",
    "\n",
    "        if success:\n",
    "            image = cv2.cvtColor(image_origin, cv2.COLOR_BGR2RGB)\n",
    "            rgb_frame = mp.Image(image_format=mp.ImageFormat.SRGB, data=image)\n",
    "            detection_result = detector.detect(rgb_frame)  # notebook/HandLandmarkerResult.ipynb 참조\n",
    "\n",
    "            if detection_result:  # detection_result 로그데이터 생성\n",
    "                logger.debug(f\"detection_result:\\n {detection_result}\")\n",
    "\n",
    "            annotated_image = draw_fingercount_on_image(  # 원본 카메라 영상에 detection 결과를 합성\n",
    "                rgb_image=image_origin,\n",
    "                detection_result=detection_result,\n",
    "            )\n",
    "\n",
    "            cv2.imshow(f\"Finger Counter\", annotated_image)  # 동영상 재생\n",
    "\n",
    "            if cv2.waitKey(1) & 0xFF == ord(\"q\"):\n",
    "                break\n",
    "        else:\n",
    "            logger.critical(f\"cap.read() error\")\n",
    "            break\n",
    "\n",
    "    cap.release()\n",
    "    cv2.destroyAllWindows()\n"
   ]
  },
  {
   "cell_type": "markdown",
   "metadata": {},
   "source": [
    "### 📌 utils.py"
   ]
  },
  {
   "cell_type": "markdown",
   "metadata": {},
   "source": [
    "### Namespace 속성(or member) 검출 함수: dir()\n",
    " - python built-in 함수\n",
    " - namespace(모듈 또는 object 내부)에 있는 멤버들의 이름(str)을 리턴해 준다.\n",
    " - module 또는 object 분석에 편리함"
   ]
  },
  {
   "cell_type": "code",
   "execution_count": 23,
   "metadata": {},
   "outputs": [
    {
     "data": {
      "text/plain": [
       "['__add__',\n",
       " '__class__',\n",
       " '__class_getitem__',\n",
       " '__contains__',\n",
       " '__delattr__',\n",
       " '__delitem__',\n",
       " '__dir__',\n",
       " '__doc__',\n",
       " '__eq__',\n",
       " '__format__',\n",
       " '__ge__',\n",
       " '__getattribute__',\n",
       " '__getitem__',\n",
       " '__getstate__',\n",
       " '__gt__',\n",
       " '__hash__',\n",
       " '__iadd__',\n",
       " '__imul__',\n",
       " '__init__',\n",
       " '__init_subclass__',\n",
       " '__iter__',\n",
       " '__le__',\n",
       " '__len__',\n",
       " '__lt__',\n",
       " '__mul__',\n",
       " '__ne__',\n",
       " '__new__',\n",
       " '__reduce__',\n",
       " '__reduce_ex__',\n",
       " '__repr__',\n",
       " '__reversed__',\n",
       " '__rmul__',\n",
       " '__setattr__',\n",
       " '__setitem__',\n",
       " '__sizeof__',\n",
       " '__str__',\n",
       " '__subclasshook__',\n",
       " 'append',\n",
       " 'clear',\n",
       " 'copy',\n",
       " 'count',\n",
       " 'extend',\n",
       " 'index',\n",
       " 'insert',\n",
       " 'pop',\n",
       " 'remove',\n",
       " 'reverse',\n",
       " 'sort']"
      ]
     },
     "execution_count": 23,
     "metadata": {},
     "output_type": "execute_result"
    }
   ],
   "source": [
    "dir(list) # list 클래스가 가지고 있는 모든 속성명칭을 리턴한다"
   ]
  },
  {
   "cell_type": "markdown",
   "metadata": {},
   "source": [
    "멤버들의 이름으로 부터 정의된 value를 읽을 때 `getattr` built-in 함수를 이용한다."
   ]
  },
  {
   "cell_type": "code",
   "execution_count": 24,
   "metadata": {},
   "outputs": [
    {
     "name": "stdout",
     "output_type": "stream",
     "text": [
      "list.__add__: <slot wrapper '__add__' of 'list' objects>\n",
      "list.__class__: <class 'type'>\n",
      "list.__class_getitem__: <built-in method __class_getitem__ of type object at 0x00007FF971784D00>\n",
      "list.__contains__: <slot wrapper '__contains__' of 'list' objects>\n",
      "list.__delattr__: <slot wrapper '__delattr__' of 'object' objects>\n",
      "list.__delitem__: <slot wrapper '__delitem__' of 'list' objects>\n",
      "list.__dir__: <method '__dir__' of 'object' objects>\n",
      "list.__doc__: Built-in mutable sequence.\n",
      "\n",
      "If no argument is given, the constructor creates a new empty list.\n",
      "The argument must be an iterable if specified.\n",
      "list.__eq__: <slot wrapper '__eq__' of 'list' objects>\n",
      "list.__format__: <method '__format__' of 'object' objects>\n",
      "list.__ge__: <slot wrapper '__ge__' of 'list' objects>\n",
      "list.__getattribute__: <slot wrapper '__getattribute__' of 'list' objects>\n",
      "list.__getitem__: <method '__getitem__' of 'list' objects>\n",
      "list.__getstate__: <method '__getstate__' of 'object' objects>\n",
      "list.__gt__: <slot wrapper '__gt__' of 'list' objects>\n",
      "list.__hash__: None\n",
      "list.__iadd__: <slot wrapper '__iadd__' of 'list' objects>\n",
      "list.__imul__: <slot wrapper '__imul__' of 'list' objects>\n",
      "list.__init__: <slot wrapper '__init__' of 'list' objects>\n",
      "list.__init_subclass__: <built-in method __init_subclass__ of type object at 0x00007FF971784D00>\n",
      "list.__iter__: <slot wrapper '__iter__' of 'list' objects>\n",
      "list.__le__: <slot wrapper '__le__' of 'list' objects>\n",
      "list.__len__: <slot wrapper '__len__' of 'list' objects>\n",
      "list.__lt__: <slot wrapper '__lt__' of 'list' objects>\n",
      "list.__mul__: <slot wrapper '__mul__' of 'list' objects>\n",
      "list.__ne__: <slot wrapper '__ne__' of 'list' objects>\n",
      "list.__new__: <built-in method __new__ of type object at 0x00007FF971784D00>\n",
      "list.__reduce__: <method '__reduce__' of 'object' objects>\n",
      "list.__reduce_ex__: <method '__reduce_ex__' of 'object' objects>\n",
      "list.__repr__: <slot wrapper '__repr__' of 'list' objects>\n",
      "list.__reversed__: <method '__reversed__' of 'list' objects>\n",
      "list.__rmul__: <slot wrapper '__rmul__' of 'list' objects>\n",
      "list.__setattr__: <slot wrapper '__setattr__' of 'object' objects>\n",
      "list.__setitem__: <slot wrapper '__setitem__' of 'list' objects>\n",
      "list.__sizeof__: <method '__sizeof__' of 'list' objects>\n",
      "list.__str__: <slot wrapper '__str__' of 'object' objects>\n",
      "list.__subclasshook__: <built-in method __subclasshook__ of type object at 0x00007FF971784D00>\n",
      "list.append: <method 'append' of 'list' objects>\n",
      "list.clear: <method 'clear' of 'list' objects>\n",
      "list.copy: <method 'copy' of 'list' objects>\n",
      "list.count: <method 'count' of 'list' objects>\n",
      "list.extend: <method 'extend' of 'list' objects>\n",
      "list.index: <method 'index' of 'list' objects>\n",
      "list.insert: <method 'insert' of 'list' objects>\n",
      "list.pop: <method 'pop' of 'list' objects>\n",
      "list.remove: <method 'remove' of 'list' objects>\n",
      "list.reverse: <method 'reverse' of 'list' objects>\n",
      "list.sort: <method 'sort' of 'list' objects>\n"
     ]
    }
   ],
   "source": [
    "for k in dir(list):\n",
    "    v = getattr(list, k)\n",
    "    print(f\"list.{k}: {v}\")"
   ]
  },
  {
   "cell_type": "code",
   "execution_count": 25,
   "metadata": {},
   "outputs": [],
   "source": [
    "import mediapipe as mp\n",
    "\n",
    "BaseOptions = mp.tasks.BaseOptions\n",
    "HandLandmarker = mp.tasks.vision.HandLandmarker\n",
    "HandLandmarkerOptions = mp.tasks.vision.HandLandmarkerOptions\n",
    "HandLandmarkerResult = mp.tasks.vision.HandLandmarkerResult\n",
    "VisionRunningMode = mp.tasks.vision.RunningMode"
   ]
  },
  {
   "cell_type": "code",
   "execution_count": 26,
   "metadata": {},
   "outputs": [
    {
     "name": "stdout",
     "output_type": "stream",
     "text": [
      "HandLandmarker.__class__: <class 'type'>\n",
      "HandLandmarker.__delattr__: <slot wrapper '__delattr__' of 'object' objects>\n",
      "HandLandmarker.__dict__: {'__module__': 'mediapipe.tasks.python.vision.hand_landmarker', '__doc__': 'Class that performs hand landmarks detection on images.', 'create_from_model_path': <classmethod(<function HandLandmarker.create_from_model_path at 0x000001A618C8E980>)>, 'create_from_options': <classmethod(<function HandLandmarker.create_from_options at 0x000001A618C8EA20>)>, 'detect': <function HandLandmarker.detect at 0x000001A618C8EAC0>, 'detect_for_video': <function HandLandmarker.detect_for_video at 0x000001A618C8EB60>, 'detect_async': <function HandLandmarker.detect_async at 0x000001A618C8EC00>}\n",
      "HandLandmarker.__dir__: <method '__dir__' of 'object' objects>\n",
      "HandLandmarker.__doc__: Class that performs hand landmarks detection on images.\n",
      "HandLandmarker.__enter__: <function BaseVisionTaskApi.__enter__ at 0x000001A618B99EE0>\n",
      "HandLandmarker.__eq__: <slot wrapper '__eq__' of 'object' objects>\n",
      "HandLandmarker.__exit__: <function BaseVisionTaskApi.__exit__ at 0x000001A618B99F80>\n",
      "HandLandmarker.__format__: <method '__format__' of 'object' objects>\n",
      "HandLandmarker.__ge__: <slot wrapper '__ge__' of 'object' objects>\n",
      "HandLandmarker.__getattribute__: <slot wrapper '__getattribute__' of 'object' objects>\n",
      "HandLandmarker.__getstate__: <method '__getstate__' of 'object' objects>\n",
      "HandLandmarker.__gt__: <slot wrapper '__gt__' of 'object' objects>\n",
      "HandLandmarker.__hash__: <slot wrapper '__hash__' of 'object' objects>\n",
      "HandLandmarker.__init__: <function BaseVisionTaskApi.__init__ at 0x000001A618B99760>\n",
      "HandLandmarker.__init_subclass__: <built-in method __init_subclass__ of type object at 0x000001A67F4479D0>\n",
      "HandLandmarker.__le__: <slot wrapper '__le__' of 'object' objects>\n",
      "HandLandmarker.__lt__: <slot wrapper '__lt__' of 'object' objects>\n",
      "HandLandmarker.__module__: mediapipe.tasks.python.vision.hand_landmarker\n",
      "HandLandmarker.__ne__: <slot wrapper '__ne__' of 'object' objects>\n",
      "HandLandmarker.__new__: <built-in method __new__ of type object at 0x00007FF97178A310>\n",
      "HandLandmarker.__reduce__: <method '__reduce__' of 'object' objects>\n",
      "HandLandmarker.__reduce_ex__: <method '__reduce_ex__' of 'object' objects>\n",
      "HandLandmarker.__repr__: <slot wrapper '__repr__' of 'object' objects>\n",
      "HandLandmarker.__setattr__: <slot wrapper '__setattr__' of 'object' objects>\n",
      "HandLandmarker.__sizeof__: <method '__sizeof__' of 'object' objects>\n",
      "HandLandmarker.__str__: <slot wrapper '__str__' of 'object' objects>\n",
      "HandLandmarker.__subclasshook__: <built-in method __subclasshook__ of type object at 0x000001A67F4479D0>\n",
      "HandLandmarker.__weakref__: <attribute '__weakref__' of 'BaseVisionTaskApi' objects>\n",
      "HandLandmarker._process_image_data: <function BaseVisionTaskApi._process_image_data at 0x000001A618B99620>\n",
      "HandLandmarker._process_video_data: <function BaseVisionTaskApi._process_video_data at 0x000001A618B99C60>\n",
      "HandLandmarker._send_live_stream_data: <function BaseVisionTaskApi._send_live_stream_data at 0x000001A618B99BC0>\n",
      "HandLandmarker.close: <function BaseVisionTaskApi.close at 0x000001A618B99DA0>\n",
      "HandLandmarker.convert_to_normalized_rect: <function BaseVisionTaskApi.convert_to_normalized_rect at 0x000001A618B99D00>\n",
      "HandLandmarker.create_from_model_path: <bound method HandLandmarker.create_from_model_path of <class 'mediapipe.tasks.python.vision.hand_landmarker.HandLandmarker'>>\n",
      "HandLandmarker.create_from_options: <bound method HandLandmarker.create_from_options of <class 'mediapipe.tasks.python.vision.hand_landmarker.HandLandmarker'>>\n",
      "HandLandmarker.detect: <function HandLandmarker.detect at 0x000001A618C8EAC0>\n",
      "HandLandmarker.detect_async: <function HandLandmarker.detect_async at 0x000001A618C8EC00>\n",
      "HandLandmarker.detect_for_video: <function HandLandmarker.detect_for_video at 0x000001A618C8EB60>\n",
      "HandLandmarker.get_graph_config: <function BaseVisionTaskApi.get_graph_config at 0x000001A618B99E40>\n"
     ]
    }
   ],
   "source": [
    "for k in dir(HandLandmarker): # Package folder의 내부 구성요소 검색\n",
    "    v = getattr(HandLandmarker, k)\n",
    "    print(f\"HandLandmarker.{k}: {v}\")"
   ]
  },
  {
   "cell_type": "code",
   "execution_count": 2,
   "metadata": {},
   "outputs": [
    {
     "name": "stderr",
     "output_type": "stream",
     "text": [
      "\u001b[32m2023-12-02 03:56:00\u001b[0m \u001b[35mAERO15\u001b[0m \u001b[34msettings[18528]\u001b[0m \u001b[1;30mINFO\u001b[0m start from the settings\n",
      "\n",
      "\u001b[32m2023-12-02 03:56:00\u001b[0m \u001b[35mAERO15\u001b[0m \u001b[34msettings[18528]\u001b[0m \u001b[1;30mWARNING\u001b[0m \u001b[33m폴더경로에 한글이 있으면 model parameter 로드시 error가 발생할 수 있습니다.\u001b[0m\n",
      "\u001b[32m2023-12-02 03:56:00\u001b[0m \u001b[35mAERO15\u001b[0m \u001b[34msettings[18528]\u001b[0m \u001b[1;30mINFO\u001b[0m project root folder: c:\\Users\\kclee\\OneDrive\\Develope\\2023-2\\OpenSW\\OSS-project-13_Master\\notebook\\..\n",
      "\n"
     ]
    },
    {
     "name": "stdout",
     "output_type": "stream",
     "text": [
      "algorithm.Algorithm: <class 'algorithm.Algorithm'>\n",
      "algorithm.Basic: <class 'algorithm.Basic'>\n",
      "algorithm.Category: <class 'mediapipe.tasks.python.components.containers.category.Category'>\n",
      "algorithm.Curvature: <class 'algorithm.Curvature'>\n",
      "algorithm.HandLandmarkerResult: <class 'mediapipe.tasks.python.vision.hand_landmarker.HandLandmarkerResult'>\n",
      "algorithm.Landmark: <class 'mediapipe.tasks.python.components.containers.landmark.Landmark'>\n",
      "algorithm.NormalizedLandmark: <class 'mediapipe.tasks.python.components.containers.landmark.NormalizedLandmark'>\n",
      "algorithm.ThumbCheck: <class 'algorithm.ThumbCheck'>\n",
      "algorithm.distance: <function distance at 0x0000019FF0A42660>\n",
      "algorithm.radius: <function radius at 0x0000019FF08D5F80>\n",
      "algorithm.to_list_landmarks: <function to_list_landmarks at 0x0000019FF0A40860>\n",
      "algorithm.to_ndarray: <function to_ndarray at 0x0000019FF08D6700>\n"
     ]
    }
   ],
   "source": [
    "try:\n",
    "    import algorithm\n",
    "except:\n",
    "    import sys\n",
    "    sys.path.insert(0, \"..\")\n",
    "    import algorithm\n",
    "\n",
    "for k in dir(algorithm): # algorithm.py 파일내 검색\n",
    "    try: # 코드에서 Exception 에러가 발생해도 for loop 끝까지 수행하도록\n",
    "        v = getattr(algorithm, k)\n",
    "        if callable(v):   # 호출() 동작이 가능하면,  또 다른 예를 들면, isinstance, issubclass 등의 기능도 있다\n",
    "            print(f\"algorithm.{k}: {v}\")\n",
    "    except:\n",
    "        continue"
   ]
  },
  {
   "cell_type": "code",
   "execution_count": 3,
   "metadata": {},
   "outputs": [
    {
     "name": "stdout",
     "output_type": "stream",
     "text": [
      "algorithm.Basic: <class 'algorithm.Basic'>\n",
      "algorithm.Curvature: <class 'algorithm.Curvature'>\n",
      "algorithm.ThumbCheck: <class 'algorithm.ThumbCheck'>\n"
     ]
    }
   ],
   "source": [
    "try:\n",
    "    import algorithm\n",
    "except:\n",
    "    import sys\n",
    "    sys.path.insert(0, \"..\")\n",
    "    import algorithm\n",
    "\n",
    "for k in dir(algorithm): # algorithm.py 파일내 알고리즘 검색\n",
    "    try: # 코드에서 Exception 에러가 발생해도 for loop 끝까지 수행하도록\n",
    "        v = getattr(algorithm, k)\n",
    "        if issubclass(v, algorithm.Algorithm) and v is not algorithm.Algorithm:\n",
    "            print(f\"algorithm.{k}: {v}\")\n",
    "    except TypeError:\n",
    "        continue"
   ]
  },
  {
   "cell_type": "markdown",
   "metadata": {},
   "source": [
    "### 📌 argparse: command line argument 읽는 법\n",
    "\n",
    "파이썬 Howto [Argparse Tutorial](https://docs.python.org/3/howto/argparse.html) 문서 참조"
   ]
  },
  {
   "cell_type": "markdown",
   "metadata": {},
   "source": [
    "command line 에서 `python main.py --help` 를 입력하면,\n",
    "```bash\n",
    "❯ python main.py --help\n",
    "usage: main.py [-h] [--algo {basic,curvature,thumbcheck}] [--log {debug,info,warning,error,critical}] [--log_a {debug,info,warning,error,critical}] [--save]\n",
    "\n",
    "options:\n",
    "  -h, --help            show this help message and exit\n",
    "  --algo {basic,curvature,thumbcheck}  -> 목록 가운데 하나를 선택입력, default값 basic\n",
    "                        select finger counter algorithm\n",
    "  --log {debug,info,warning,error,critical} -> 목록 가운데 하나를 선택하여 입력, default값 info\n",
    "                        select log level \n",
    "  --log_a {debug,info,warning,error,critical} -> 목록 가운데 하나를 선택하여 입력, default값 info\n",
    "                        select algorithm log level\n",
    "  --save                  -> 지정하면 video 영상을 자동으로 저장\n",
    "                        save video data as .avi file\n",
    "```"
   ]
  },
  {
   "cell_type": "markdown",
   "metadata": {},
   "source": [
    "프로그램 동작\n",
    "```python\n",
    "args = get_args()  # 프로그램 실행시 command line 에서 입력된 argument 값을 읽어 args에 설정하는 코드\n",
    "```"
   ]
  },
  {
   "cell_type": "markdown",
   "metadata": {},
   "source": [
    "```python\n",
    "def get_args():\n",
    "    algos = extract_subclass(algorithm, algorithm.Algorithm)   -> algorithm.py 파일에서 Algorithm 파생클래스를 찾아 목록(list[dict])으로 구성\n",
    "    parser = argparse.ArgumentParser()\n",
    "    parser.add_argument(\n",
    "        \"--algo\",\n",
    "        help=\"select finger counter algorithm\",\n",
    "        default=\"thumbcheck\",\n",
    "        type=str,\n",
    "        required=False,\n",
    "        choices=list(algos.keys()), -> Algorithm 파생클래스 이름(key값)을 목록으로 변환하여 선택리스트에 전달한다.\n",
    "    )\n",
    "    parser.add_argument(\n",
    "        \"--log\",\n",
    "        help=\"select log level\",\n",
    "        default=\"info\",\n",
    "        type=str,\n",
    "        required=False,\n",
    "        choices=[\"debug\", \"info\", \"warning\", \"error\", \"critical\"],\n",
    "    )\n",
    "    parser.add_argument(\n",
    "        \"--log_a\",\n",
    "        help=\"select algorithm log level\",\n",
    "        default=\"info\",\n",
    "        type=str,\n",
    "        required=False,\n",
    "        choices=[\"debug\", \"info\", \"warning\", \"error\", \"critical\"],\n",
    "    )\n",
    "    parser.add_argument(\n",
    "        \"--save\",\n",
    "        help=\"save video data as .avi file\",\n",
    "        default=False,\n",
    "        action=\"store_true\",\n",
    "        required=False,\n",
    "    )\n",
    "\n",
    "    args = parser.parse_args()  -> 위에서 정의된 Argument를 기반으로 command line에서 입력된 argument 값을 가져온다\n",
    "\n",
    "    return args\n",
    "\n",
    "```\n",
    "\n",
    "🚩 args 의 필드값\n",
    "```python\n",
    " - args.algo: str\n",
    " - args.log: str\n",
    " - args.log_a: str\n",
    " - args.save: bool\n",
    " \n",
    "```\n",
    "\n",
    "🚩 예) 로그레벨 설정 코드\n",
    "```python\n",
    "logger = logging.getLogger(__name__)  -> 파이썬 모든 코드 영역에는 자신이 속한 Namepace가 정의되어 있다. 그 Namespace 이름은 __name__ 을 사용하여 가져온다. \n",
    "                                         파이썬 데이터 모델 (https://docs.python.org/3/reference/datamodel.html) 참조\n",
    "coloredlogs.install(level=args.log.upper(), logger=logger)  -> args.log 값을 읽어 대문자로 변환하여 설정함을 알 수 있다\n",
    "```\n"
   ]
  },
  {
   "cell_type": "code",
   "execution_count": null,
   "metadata": {},
   "outputs": [],
   "source": []
  },
  {
   "cell_type": "code",
   "execution_count": null,
   "metadata": {},
   "outputs": [],
   "source": []
  },
  {
   "cell_type": "markdown",
   "metadata": {},
   "source": [
    "#### 📌 Curvature Calculation"
   ]
  },
  {
   "cell_type": "code",
   "execution_count": 29,
   "metadata": {},
   "outputs": [],
   "source": [
    "import numpy as np"
   ]
  },
  {
   "cell_type": "code",
   "execution_count": 30,
   "metadata": {},
   "outputs": [],
   "source": [
    "def radius_center(A, B, C):\n",
    "\n",
    "    # A = np.array([2.0, 1.5, 0.0])\n",
    "    # B = np.array([6.0, 4.5, 0.0])\n",
    "    # C = np.array([11.75, 6.25, 0.0])\n",
    "    a = np.linalg.norm(C - B)\n",
    "    b = np.linalg.norm(C - A)\n",
    "    c = np.linalg.norm(B - A)\n",
    "    s = (a + b + c) / 2\n",
    "    radius = a*b*c / 4 / np.sqrt(s * (s - a) * (s - b) * (s - c))\n",
    "    b1 = a*a * (b*b + c*c - a*a)\n",
    "    b2 = b*b * (a*a + c*c - b*b)\n",
    "    b3 = c*c * (a*a + b*b - c*c)\n",
    "    center = np.column_stack((A, B, C)).dot(np.hstack((b1, b2, b3)))\n",
    "    center /= b1 + b2 + b3\n",
    "\n",
    "    return (radius, center) if radius > 0 else (np.inf, np.array([np.inf, np.inf, np.inf]))\n",
    "\n",
    "\n",
    "# print(R)\n",
    "# print(P)\n",
    "\n",
    "# 15.899002930062531\n",
    "# array([ 13.42073171,  -9.56097561,   0.        ])"
   ]
  },
  {
   "cell_type": "markdown",
   "metadata": {},
   "source": [
    "### hand_landmarks(21개 핸드 특징점 좌표) 데이터 분석"
   ]
  },
  {
   "cell_type": "code",
   "execution_count": 1,
   "metadata": {},
   "outputs": [],
   "source": [
    "import numpy as np\n",
    "from mediapipe.tasks.python.vision.hand_landmarker import HandLandmarkerResult\n",
    "from mediapipe.tasks.python.components.containers.category import Category\n",
    "from mediapipe.tasks.python.components.containers.landmark import NormalizedLandmark, Landmark\n",
    "\n",
    "results = HandLandmarkerResult(\n",
    "    handedness=[[Category(index=1, score=0.9926292896270752, display_name=\"Left\", category_name=\"Left\")]],\n",
    "    hand_landmarks=[\n",
    "        [\n",
    "            NormalizedLandmark(x=0.6419628858566284, y=0.616515040397644, z=-6.035641604285047e-07, visibility=0.0, presence=0.0),\n",
    "            NormalizedLandmark(x=0.5716654062271118, y=0.6108736395835876, z=-0.002957998076453805, visibility=0.0, presence=0.0),\n",
    "            NormalizedLandmark(x=0.5272430777549744, y=0.5887590646743774, z=-0.01388684194535017, visibility=0.0, presence=0.0),\n",
    "            NormalizedLandmark(x=0.4818960428237915, y=0.5766850113868713, z=-0.029851868748664856, visibility=0.0, presence=0.0),\n",
    "            NormalizedLandmark(x=0.44992589950561523, y=0.5541561841964722, z=-0.04740559309720993, visibility=0.0, presence=0.0),\n",
    "            NormalizedLandmark(x=0.6141445636749268, y=0.43760523200035095, z=0.007367989979684353, visibility=0.0, presence=0.0),\n",
    "            NormalizedLandmark(x=0.5445273518562317, y=0.428905725479126, z=-0.007748082280158997, visibility=0.0, presence=0.0),\n",
    "            NormalizedLandmark(x=0.5036388635635376, y=0.45918241143226624, z=-0.025927452370524406, visibility=0.0, presence=0.0),\n",
    "            NormalizedLandmark(x=0.47835105657577515, y=0.49549776315689087, z=-0.03698492795228958, visibility=0.0, presence=0.0),\n",
    "            NormalizedLandmark(x=0.6072747707366943, y=0.42586055397987366, z=-0.00027601292822510004, visibility=0.0, presence=0.0),\n",
    "            NormalizedLandmark(x=0.5201941132545471, y=0.42209744453430176, z=-0.009670299477875233, visibility=0.0, presence=0.0),\n",
    "            NormalizedLandmark(x=0.4791445732116699, y=0.4669061303138733, z=-0.02469821274280548, visibility=0.0, presence=0.0),\n",
    "            NormalizedLandmark(x=0.46002593636512756, y=0.5104443430900574, z=-0.03566863387823105, visibility=0.0, presence=0.0),\n",
    "            NormalizedLandmark(x=0.5915679335594177, y=0.4281168580055237, z=-0.009448129683732986, visibility=0.0, presence=0.0),\n",
    "            NormalizedLandmark(x=0.5056634545326233, y=0.4338810443878174, z=-0.017011014744639397, visibility=0.0, presence=0.0),\n",
    "            NormalizedLandmark(x=0.4680931866168976, y=0.4771495461463928, z=-0.02728145755827427, visibility=0.0, presence=0.0),\n",
    "            NormalizedLandmark(x=0.4502561092376709, y=0.516810953617096, z=-0.034487128257751465, visibility=0.0, presence=0.0),\n",
    "            NormalizedLandmark(x=0.5680385231971741, y=0.4449925422668457, z=-0.019567394629120827, visibility=0.0, presence=0.0),\n",
    "            NormalizedLandmark(x=0.504776656627655, y=0.45213910937309265, z=-0.022505883127450943, visibility=0.0, presence=0.0),\n",
    "            NormalizedLandmark(x=0.47540536522865295, y=0.47587350010871887, z=-0.023087508976459503, visibility=0.0, presence=0.0),\n",
    "            NormalizedLandmark(x=0.4563266634941101, y=0.5018525123596191, z=-0.022691285237669945, visibility=0.0, presence=0.0),\n",
    "        ]\n",
    "    ],\n",
    "    hand_world_landmarks=[\n",
    "        [\n",
    "            Landmark(x=0.009037008509039879, y=0.06189635396003723, z=-0.03779924288392067, visibility=0.0, presence=0.0),\n",
    "            Landmark(x=-0.0033948568161576986, y=0.05620351806282997, z=-0.012544753029942513, visibility=0.0, presence=0.0),\n",
    "            Landmark(x=-0.02560390532016754, y=0.04868587106466293, z=0.014155255630612373, visibility=0.0, presence=0.0),\n",
    "            Landmark(x=-0.04892528057098389, y=0.04613838344812393, z=0.05510091409087181, visibility=0.0, presence=0.0),\n",
    "            Landmark(x=-0.06683654338121414, y=0.034338757395744324, z=0.08791903406381607, visibility=0.0, presence=0.0),\n",
    "            Landmark(x=-0.0019140357617288828, y=0.000755488988943398, z=0.01971326768398285, visibility=0.0, presence=0.0),\n",
    "            Landmark(x=-0.021188266575336456, y=-0.0017718548187986016, z=0.027694974094629288, visibility=0.0, presence=0.0),\n",
    "            Landmark(x=-0.037010885775089264, y=0.001074992585927248, z=0.03401287645101547, visibility=0.0, presence=0.0),\n",
    "            Landmark(x=-0.05434488505125046, y=0.01770664006471634, z=0.030251258984208107, visibility=0.0, presence=0.0),\n",
    "            Landmark(x=0.00110423075966537, y=-0.003265355248004198, z=0.007934767752885818, visibility=0.0, presence=0.0),\n",
    "            Landmark(x=-0.028509020805358887, y=-0.013048581779003143, z=0.018052339553833008, visibility=0.0, presence=0.0),\n",
    "            Landmark(x=-0.0526660792529583, y=0.0021621340420097113, z=0.023894505575299263, visibility=0.0, presence=0.0),\n",
    "            Landmark(x=-0.06124870851635933, y=0.01557418704032898, z=0.03212356194853783, visibility=0.0, presence=0.0),\n",
    "            Landmark(x=-0.0001015738962450996, y=-0.0032526326831430197, z=-0.01480625756084919, visibility=0.0, presence=0.0),\n",
    "            Landmark(x=-0.029653087258338928, y=-0.0027253220323473215, z=0.0009754223865456879, visibility=0.0, presence=0.0),\n",
    "            Landmark(x=-0.05461142584681511, y=0.00921244453638792, z=0.011858618818223476, visibility=0.0, presence=0.0),\n",
    "            Landmark(x=-0.0628863126039505, y=0.022142725065350533, z=0.02059471420943737, visibility=0.0, presence=0.0),\n",
    "            Landmark(x=-0.01317686215043068, y=0.010379736311733723, z=-0.027534576132893562, visibility=0.0, presence=0.0),\n",
    "            Landmark(x=-0.02998003363609314, y=0.0076247043907642365, z=-0.01695789210498333, visibility=0.0, presence=0.0),\n",
    "            Landmark(x=-0.049735985696315765, y=0.005921175237745047, z=-0.008792607113718987, visibility=0.0, presence=0.0),\n",
    "            Landmark(x=-0.05839437246322632, y=0.01687566563487053, z=4.301162698538974e-05, visibility=0.0, presence=0.0),\n",
    "        ]\n",
    "    ],\n",
    ")"
   ]
  },
  {
   "cell_type": "code",
   "execution_count": 2,
   "metadata": {},
   "outputs": [
    {
     "data": {
      "text/plain": [
       "array([NormalizedLandmark(x=0.6419628858566284, y=0.616515040397644, z=-6.035641604285047e-07, visibility=0.0, presence=0.0),\n",
       "       NormalizedLandmark(x=0.5716654062271118, y=0.6108736395835876, z=-0.002957998076453805, visibility=0.0, presence=0.0),\n",
       "       NormalizedLandmark(x=0.5272430777549744, y=0.5887590646743774, z=-0.01388684194535017, visibility=0.0, presence=0.0),\n",
       "       NormalizedLandmark(x=0.4818960428237915, y=0.5766850113868713, z=-0.029851868748664856, visibility=0.0, presence=0.0),\n",
       "       NormalizedLandmark(x=0.44992589950561523, y=0.5541561841964722, z=-0.04740559309720993, visibility=0.0, presence=0.0),\n",
       "       NormalizedLandmark(x=0.6141445636749268, y=0.43760523200035095, z=0.007367989979684353, visibility=0.0, presence=0.0),\n",
       "       NormalizedLandmark(x=0.5445273518562317, y=0.428905725479126, z=-0.007748082280158997, visibility=0.0, presence=0.0),\n",
       "       NormalizedLandmark(x=0.5036388635635376, y=0.45918241143226624, z=-0.025927452370524406, visibility=0.0, presence=0.0),\n",
       "       NormalizedLandmark(x=0.47835105657577515, y=0.49549776315689087, z=-0.03698492795228958, visibility=0.0, presence=0.0),\n",
       "       NormalizedLandmark(x=0.6072747707366943, y=0.42586055397987366, z=-0.00027601292822510004, visibility=0.0, presence=0.0),\n",
       "       NormalizedLandmark(x=0.5201941132545471, y=0.42209744453430176, z=-0.009670299477875233, visibility=0.0, presence=0.0),\n",
       "       NormalizedLandmark(x=0.4791445732116699, y=0.4669061303138733, z=-0.02469821274280548, visibility=0.0, presence=0.0),\n",
       "       NormalizedLandmark(x=0.46002593636512756, y=0.5104443430900574, z=-0.03566863387823105, visibility=0.0, presence=0.0),\n",
       "       NormalizedLandmark(x=0.5915679335594177, y=0.4281168580055237, z=-0.009448129683732986, visibility=0.0, presence=0.0),\n",
       "       NormalizedLandmark(x=0.5056634545326233, y=0.4338810443878174, z=-0.017011014744639397, visibility=0.0, presence=0.0),\n",
       "       NormalizedLandmark(x=0.4680931866168976, y=0.4771495461463928, z=-0.02728145755827427, visibility=0.0, presence=0.0),\n",
       "       NormalizedLandmark(x=0.4502561092376709, y=0.516810953617096, z=-0.034487128257751465, visibility=0.0, presence=0.0),\n",
       "       NormalizedLandmark(x=0.5680385231971741, y=0.4449925422668457, z=-0.019567394629120827, visibility=0.0, presence=0.0),\n",
       "       NormalizedLandmark(x=0.504776656627655, y=0.45213910937309265, z=-0.022505883127450943, visibility=0.0, presence=0.0),\n",
       "       NormalizedLandmark(x=0.47540536522865295, y=0.47587350010871887, z=-0.023087508976459503, visibility=0.0, presence=0.0),\n",
       "       NormalizedLandmark(x=0.4563266634941101, y=0.5018525123596191, z=-0.022691285237669945, visibility=0.0, presence=0.0)],\n",
       "      dtype=object)"
      ]
     },
     "execution_count": 2,
     "metadata": {},
     "output_type": "execute_result"
    }
   ],
   "source": [
    "landmarks = np.array(results.hand_landmarks[0])\n",
    "landmarks"
   ]
  },
  {
   "cell_type": "code",
   "execution_count": 8,
   "metadata": {},
   "outputs": [
    {
     "data": {
      "text/html": [
       "<div>\n",
       "<style scoped>\n",
       "    .dataframe tbody tr th:only-of-type {\n",
       "        vertical-align: middle;\n",
       "    }\n",
       "\n",
       "    .dataframe tbody tr th {\n",
       "        vertical-align: top;\n",
       "    }\n",
       "\n",
       "    .dataframe thead th {\n",
       "        text-align: right;\n",
       "    }\n",
       "</style>\n",
       "<table border=\"1\" class=\"dataframe\">\n",
       "  <thead>\n",
       "    <tr style=\"text-align: right;\">\n",
       "      <th></th>\n",
       "      <th>x</th>\n",
       "      <th>y</th>\n",
       "      <th>z</th>\n",
       "    </tr>\n",
       "  </thead>\n",
       "  <tbody>\n",
       "    <tr>\n",
       "      <th>0</th>\n",
       "      <td>0.641963</td>\n",
       "      <td>0.616515</td>\n",
       "      <td>-6.035642e-07</td>\n",
       "    </tr>\n",
       "    <tr>\n",
       "      <th>1</th>\n",
       "      <td>0.571665</td>\n",
       "      <td>0.610874</td>\n",
       "      <td>-2.957998e-03</td>\n",
       "    </tr>\n",
       "    <tr>\n",
       "      <th>2</th>\n",
       "      <td>0.527243</td>\n",
       "      <td>0.588759</td>\n",
       "      <td>-1.388684e-02</td>\n",
       "    </tr>\n",
       "    <tr>\n",
       "      <th>3</th>\n",
       "      <td>0.481896</td>\n",
       "      <td>0.576685</td>\n",
       "      <td>-2.985187e-02</td>\n",
       "    </tr>\n",
       "    <tr>\n",
       "      <th>4</th>\n",
       "      <td>0.449926</td>\n",
       "      <td>0.554156</td>\n",
       "      <td>-4.740559e-02</td>\n",
       "    </tr>\n",
       "    <tr>\n",
       "      <th>5</th>\n",
       "      <td>0.614145</td>\n",
       "      <td>0.437605</td>\n",
       "      <td>7.367990e-03</td>\n",
       "    </tr>\n",
       "    <tr>\n",
       "      <th>6</th>\n",
       "      <td>0.544527</td>\n",
       "      <td>0.428906</td>\n",
       "      <td>-7.748082e-03</td>\n",
       "    </tr>\n",
       "    <tr>\n",
       "      <th>7</th>\n",
       "      <td>0.503639</td>\n",
       "      <td>0.459182</td>\n",
       "      <td>-2.592745e-02</td>\n",
       "    </tr>\n",
       "    <tr>\n",
       "      <th>8</th>\n",
       "      <td>0.478351</td>\n",
       "      <td>0.495498</td>\n",
       "      <td>-3.698493e-02</td>\n",
       "    </tr>\n",
       "    <tr>\n",
       "      <th>9</th>\n",
       "      <td>0.607275</td>\n",
       "      <td>0.425861</td>\n",
       "      <td>-2.760129e-04</td>\n",
       "    </tr>\n",
       "    <tr>\n",
       "      <th>10</th>\n",
       "      <td>0.520194</td>\n",
       "      <td>0.422097</td>\n",
       "      <td>-9.670299e-03</td>\n",
       "    </tr>\n",
       "    <tr>\n",
       "      <th>11</th>\n",
       "      <td>0.479145</td>\n",
       "      <td>0.466906</td>\n",
       "      <td>-2.469821e-02</td>\n",
       "    </tr>\n",
       "    <tr>\n",
       "      <th>12</th>\n",
       "      <td>0.460026</td>\n",
       "      <td>0.510444</td>\n",
       "      <td>-3.566863e-02</td>\n",
       "    </tr>\n",
       "    <tr>\n",
       "      <th>13</th>\n",
       "      <td>0.591568</td>\n",
       "      <td>0.428117</td>\n",
       "      <td>-9.448130e-03</td>\n",
       "    </tr>\n",
       "    <tr>\n",
       "      <th>14</th>\n",
       "      <td>0.505663</td>\n",
       "      <td>0.433881</td>\n",
       "      <td>-1.701101e-02</td>\n",
       "    </tr>\n",
       "    <tr>\n",
       "      <th>15</th>\n",
       "      <td>0.468093</td>\n",
       "      <td>0.477150</td>\n",
       "      <td>-2.728146e-02</td>\n",
       "    </tr>\n",
       "    <tr>\n",
       "      <th>16</th>\n",
       "      <td>0.450256</td>\n",
       "      <td>0.516811</td>\n",
       "      <td>-3.448713e-02</td>\n",
       "    </tr>\n",
       "    <tr>\n",
       "      <th>17</th>\n",
       "      <td>0.568039</td>\n",
       "      <td>0.444993</td>\n",
       "      <td>-1.956739e-02</td>\n",
       "    </tr>\n",
       "    <tr>\n",
       "      <th>18</th>\n",
       "      <td>0.504777</td>\n",
       "      <td>0.452139</td>\n",
       "      <td>-2.250588e-02</td>\n",
       "    </tr>\n",
       "    <tr>\n",
       "      <th>19</th>\n",
       "      <td>0.475405</td>\n",
       "      <td>0.475874</td>\n",
       "      <td>-2.308751e-02</td>\n",
       "    </tr>\n",
       "    <tr>\n",
       "      <th>20</th>\n",
       "      <td>0.456327</td>\n",
       "      <td>0.501853</td>\n",
       "      <td>-2.269129e-02</td>\n",
       "    </tr>\n",
       "  </tbody>\n",
       "</table>\n",
       "</div>"
      ],
      "text/plain": [
       "           x         y             z\n",
       "0   0.641963  0.616515 -6.035642e-07\n",
       "1   0.571665  0.610874 -2.957998e-03\n",
       "2   0.527243  0.588759 -1.388684e-02\n",
       "3   0.481896  0.576685 -2.985187e-02\n",
       "4   0.449926  0.554156 -4.740559e-02\n",
       "5   0.614145  0.437605  7.367990e-03\n",
       "6   0.544527  0.428906 -7.748082e-03\n",
       "7   0.503639  0.459182 -2.592745e-02\n",
       "8   0.478351  0.495498 -3.698493e-02\n",
       "9   0.607275  0.425861 -2.760129e-04\n",
       "10  0.520194  0.422097 -9.670299e-03\n",
       "11  0.479145  0.466906 -2.469821e-02\n",
       "12  0.460026  0.510444 -3.566863e-02\n",
       "13  0.591568  0.428117 -9.448130e-03\n",
       "14  0.505663  0.433881 -1.701101e-02\n",
       "15  0.468093  0.477150 -2.728146e-02\n",
       "16  0.450256  0.516811 -3.448713e-02\n",
       "17  0.568039  0.444993 -1.956739e-02\n",
       "18  0.504777  0.452139 -2.250588e-02\n",
       "19  0.475405  0.475874 -2.308751e-02\n",
       "20  0.456327  0.501853 -2.269129e-02"
      ]
     },
     "execution_count": 8,
     "metadata": {},
     "output_type": "execute_result"
    }
   ],
   "source": [
    "import pandas as pd\n",
    "\n",
    "data = []\n",
    "for mark in landmarks:\n",
    "    data.append([mark.x, mark.y, mark.z])\n",
    "data\n",
    "\n",
    "df = pd.DataFrame(data, columns=['x', 'y', 'z'])\n",
    "df.csv\n"
   ]
  },
  {
   "cell_type": "code",
   "execution_count": 34,
   "metadata": {},
   "outputs": [],
   "source": [
    "def to_ndarray(landmark):\n",
    "    return np.array([landmark.x, landmark.y, landmark.z])"
   ]
  },
  {
   "cell_type": "code",
   "execution_count": 35,
   "metadata": {},
   "outputs": [
    {
     "data": {
      "text/plain": [
       "array([ 6.41962886e-01,  6.16515040e-01, -6.03564160e-07])"
      ]
     },
     "execution_count": 35,
     "metadata": {},
     "output_type": "execute_result"
    }
   ],
   "source": [
    "to_ndarray(landmarks[0])"
   ]
  },
  {
   "cell_type": "code",
   "execution_count": 36,
   "metadata": {},
   "outputs": [
    {
     "data": {
      "text/plain": [
       "0.24047688819905672"
      ]
     },
     "execution_count": 36,
     "metadata": {},
     "output_type": "execute_result"
    }
   ],
   "source": [
    "r, c = radius_center(\n",
    "    to_ndarray(landmarks[0]),\n",
    "    to_ndarray(landmarks[1]),\n",
    "    to_ndarray(landmarks[4]),\n",
    ")\n",
    "r"
   ]
  },
  {
   "cell_type": "code",
   "execution_count": 37,
   "metadata": {},
   "outputs": [
    {
     "data": {
      "text/plain": [
       "array([NormalizedLandmark(x=0.6419628858566284, y=0.616515040397644, z=-6.035641604285047e-07, visibility=0.0, presence=0.0),\n",
       "       NormalizedLandmark(x=0.5716654062271118, y=0.6108736395835876, z=-0.002957998076453805, visibility=0.0, presence=0.0),\n",
       "       NormalizedLandmark(x=0.5272430777549744, y=0.5887590646743774, z=-0.01388684194535017, visibility=0.0, presence=0.0)],\n",
       "      dtype=object)"
      ]
     },
     "execution_count": 37,
     "metadata": {},
     "output_type": "execute_result"
    }
   ],
   "source": [
    "landmarks[[0, 1, 2]]"
   ]
  }
 ],
 "metadata": {
  "kernelspec": {
   "display_name": "mediapipe",
   "language": "python",
   "name": "python3"
  },
  "language_info": {
   "codemirror_mode": {
    "name": "ipython",
    "version": 3
   },
   "file_extension": ".py",
   "mimetype": "text/x-python",
   "name": "python",
   "nbconvert_exporter": "python",
   "pygments_lexer": "ipython3",
   "version": "3.11.5"
  }
 },
 "nbformat": 4,
 "nbformat_minor": 2
}
